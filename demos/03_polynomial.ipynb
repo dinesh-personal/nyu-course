{
 "cells": [
  {
   "cell_type": "code",
   "execution_count": 1,
   "id": "1007183e-58a1-42ce-a1dd-811769a4eda9",
   "metadata": {},
   "outputs": [],
   "source": [
    "import numpy as np\n",
    "from sklearn import linear_model as lm\n",
    "from sklearn import preprocessing as skp\n",
    "np.set_printoptions(precision=2)"
   ]
  },
  {
   "cell_type": "markdown",
   "id": "1001ec8b-60c8-44ea-91e9-91306709a16f",
   "metadata": {},
   "source": [
    "# Let us create some fake data - y = (3x1+2x2+1)^2"
   ]
  },
  {
   "cell_type": "code",
   "execution_count": 2,
   "id": "0d47d62b-e48d-4bcb-8d26-39e32ba2e21e",
   "metadata": {},
   "outputs": [],
   "source": [
    "x1 = np.linspace(2, 12, num=10, endpoint=False)\n",
    "x2 = np.linspace(5, 15, num=10, endpoint=False)\n",
    "y = np.power(3*x1 + 2*x2 + 1, 2)\n",
    "all_x = np.array([x1,x2]).transpose()"
   ]
  },
  {
   "cell_type": "code",
   "execution_count": 3,
   "id": "00df8859-34a2-4649-9a4a-13ed9a95bf3b",
   "metadata": {},
   "outputs": [
    {
     "name": "stdout",
     "output_type": "stream",
     "text": [
      "[[ 2.  5.]\n",
      " [ 3.  6.]\n",
      " [ 4.  7.]\n",
      " [ 5.  8.]\n",
      " [ 6.  9.]\n",
      " [ 7. 10.]\n",
      " [ 8. 11.]\n",
      " [ 9. 12.]\n",
      " [10. 13.]\n",
      " [11. 14.]]\n"
     ]
    }
   ],
   "source": [
    "# Let us print out the all_x array to see what it is \n",
    "print(all_x) "
   ]
  },
  {
   "cell_type": "code",
   "execution_count": 4,
   "id": "3acfb88d-d3bf-4d50-93a5-7e8e3bc06c67",
   "metadata": {},
   "outputs": [
    {
     "name": "stdout",
     "output_type": "stream",
     "text": [
      "[[  1.   2.   5.   4.  10.  25.]\n",
      " [  1.   3.   6.   9.  18.  36.]\n",
      " [  1.   4.   7.  16.  28.  49.]\n",
      " [  1.   5.   8.  25.  40.  64.]\n",
      " [  1.   6.   9.  36.  54.  81.]\n",
      " [  1.   7.  10.  49.  70. 100.]\n",
      " [  1.   8.  11.  64.  88. 121.]\n",
      " [  1.   9.  12.  81. 108. 144.]\n",
      " [  1.  10.  13. 100. 130. 169.]\n",
      " [  1.  11.  14. 121. 154. 196.]]\n"
     ]
    }
   ],
   "source": [
    "#Now call the polynomial preprocessor on the all_x array \n",
    "poly_2 = skp.PolynomialFeatures(degree=2)\n",
    "poly_2.fit(all_x)\n",
    "new_x = poly_2.transform(all_x)\n",
    "print(new_x)"
   ]
  },
  {
   "cell_type": "code",
   "execution_count": 6,
   "id": "01c0920e-f6eb-4573-bd2e-924059a463f9",
   "metadata": {},
   "outputs": [
    {
     "name": "stdout",
     "output_type": "stream",
     "text": [
      "0.9999999946655317\n"
     ]
    }
   ],
   "source": [
    "# We can now try to fit the generated value to a linear regressor and see its value\n",
    "model = lm.Ridge(alpha=0.5)\n",
    "model.fit(new_x, y)\n",
    "print(model.score(new_x, y))"
   ]
  },
  {
   "cell_type": "code",
   "execution_count": 7,
   "id": "6b7d3a7f-d925-484c-b574-1eab6d4cfbe5",
   "metadata": {},
   "outputs": [
    {
     "name": "stdout",
     "output_type": "stream",
     "text": [
      "Predictions: [ 288.86  483.95  729.02 1024.07 1369.09 1764.09 2209.07 2704.03 3248.96\n",
      " 3843.87]\n",
      "Actuals: [ 289.  484.  729. 1024. 1369. 1764. 2209. 2704. 3249. 3844.]\n"
     ]
    }
   ],
   "source": [
    "# The R2 score is good, let us validate by printing predictions and originals \n",
    "\n",
    "predictions = model.predict(new_x)\n",
    "print('Predictions:', predictions[0:10])\n",
    "print('Actuals:', y[0:10])"
   ]
  },
  {
   "cell_type": "code",
   "execution_count": 8,
   "id": "3a1dcbde-a419-488a-bc06-b173e120dd4c",
   "metadata": {},
   "outputs": [
    {
     "name": "stdout",
     "output_type": "stream",
     "text": [
      "0.9999999946655317\n"
     ]
    }
   ],
   "source": [
    "#In scikit learn, one can define a pipeline -- which consists of various preprocessors and models. \n",
    "#it provides an easier approach to calculate instead of using the expanded pipelines \n",
    "#Input data is new_x, output is y \n",
    "\n",
    "from sklearn.pipeline import Pipeline\n",
    "these_functions = [('PreProcess', skp.PolynomialFeatures(degree=2)), ('Regress', lm.Ridge(alpha=0.5))]\n",
    "pipe = Pipeline(these_functions)\n",
    "pipe.fit(all_x, y)\n",
    "print(pipe.score(all_x,y))"
   ]
  },
  {
   "cell_type": "code",
   "execution_count": 9,
   "id": "891215b3-ee99-4c62-943c-5c0bc80bc226",
   "metadata": {},
   "outputs": [
    {
     "name": "stdout",
     "output_type": "stream",
     "text": [
      "[ 288.86  483.95  729.02 1024.07 1369.09 1764.09 2209.07 2704.03 3248.96\n",
      " 3843.87]\n",
      "[ 289.  484.  729. 1024. 1369. 1764. 2209. 2704. 3249. 3844.]\n"
     ]
    }
   ],
   "source": [
    "predictions = pipe.predict(all_x)\n",
    "print(predictions[0:10])\n",
    "print(y[0:10])"
   ]
  },
  {
   "cell_type": "code",
   "execution_count": null,
   "id": "c6bf0c22-8651-4903-b1b1-351e91024419",
   "metadata": {},
   "outputs": [],
   "source": []
  }
 ],
 "metadata": {
  "kernelspec": {
   "display_name": "Python 3 (ipykernel)",
   "language": "python",
   "name": "python3"
  },
  "language_info": {
   "codemirror_mode": {
    "name": "ipython",
    "version": 3
   },
   "file_extension": ".py",
   "mimetype": "text/x-python",
   "name": "python",
   "nbconvert_exporter": "python",
   "pygments_lexer": "ipython3",
   "version": "3.10.10"
  }
 },
 "nbformat": 4,
 "nbformat_minor": 5
}
