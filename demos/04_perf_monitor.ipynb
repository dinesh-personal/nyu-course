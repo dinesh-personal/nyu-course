{
 "cells": [
  {
   "cell_type": "code",
   "execution_count": 1,
   "id": "1007183e-58a1-42ce-a1dd-811769a4eda9",
   "metadata": {},
   "outputs": [],
   "source": [
    "import numpy as np\n",
    "import utils as ut\n",
    "from scipy.optimize import curve_fit\n",
    "from sklearn.metrics import r2_score"
   ]
  },
  {
   "cell_type": "code",
   "execution_count": 2,
   "id": "dd335100-4d19-4d56-94e1-b1b2d67910e1",
   "metadata": {},
   "outputs": [
    {
     "name": "stdout",
     "output_type": "stream",
     "text": [
      "[[  6674.43747787 596477.83606076 605987.55400577]\n",
      " [  5057.61630045 449272.85318218 454768.18284612]\n",
      " [  7350.52210752 261979.11486909 266287.50287858]\n",
      " [  6346.50347689 547749.21004677 553423.50600704]\n",
      " [  4938.26212291 277600.20799442 283022.79672739]\n",
      " [  5796.37480454 358519.43234887 362769.55882072]\n",
      " [  7603.06141845 553527.52243895 559967.64223449]\n",
      " [  7755.414491   343169.3532111  346909.18546354]\n",
      " [  6367.5293929  567974.15201452 579111.58713347]\n",
      " [  5387.89076134 248505.24848966 252373.59540343]]\n",
      "[8476.3034388  6399.60092562 9339.50396982 8015.55661059 6293.66027726\n",
      " 7331.61544067 9614.63753402 9800.15323156 8115.73318649 6839.97112985]\n"
     ]
    }
   ],
   "source": [
    "X, Y = ut.read_data('data/perf_monitor.csv', x_cols=3)\n",
    "# It is a good idea to print a few numbers to validate that data has been read correctly \n",
    "print(X[0:10])\n",
    "print(Y[0:10])"
   ]
  },
  {
   "cell_type": "code",
   "execution_count": 4,
   "id": "d5b38807-d800-4f94-b340-5677e548c596",
   "metadata": {},
   "outputs": [],
   "source": [
    "# This is the code to calculate the coefficients for any arbitrary function. \n",
    "\n",
    "def calculate_coeff(x_values, y_values, func):\n",
    "    params = curve_fit(func, xdata = x_values.transpose(), ydata = y_values)\n",
    "    coeff = params[0]\n",
    "    pred = [func(x, *coeff) for x in x_values]\n",
    "    score = r2_score(y_values, np.array(pred))\n",
    "    return score, coeff"
   ]
  },
  {
   "cell_type": "code",
   "execution_count": 5,
   "id": "762046a2-c7be-485b-b1e9-2e1e0ff26109",
   "metadata": {},
   "outputs": [
    {
     "name": "stdout",
     "output_type": "stream",
     "text": [
      "R2 Score 0.9992231521951552\n",
      "Coefficients [ 1.28270052 24.0359746 ]\n"
     ]
    }
   ],
   "source": [
    "# Let us define function1 which takes unknown parameters alpha and beta to fit the data\n",
    "\n",
    "def function1(data, alpha, beta):\n",
    "    duration = data[0]\n",
    "    bytes_xmit = data[1]\n",
    "    bytes_xfer = data[2]\n",
    "    loss_rate = (bytes_xmit - bytes_xfer)/bytes_xmit\n",
    "    return duration *(1+loss_rate)*alpha + beta\n",
    "\n",
    "# Let us fit the arbitrary function to the available data \n",
    "score, coeff = calculate_coeff(X, Y, function1)\n",
    "print(f'R2 Score {score}')\n",
    "print(f'Coefficients {coeff}')"
   ]
  },
  {
   "cell_type": "code",
   "execution_count": 6,
   "id": "6c25c6b9-f89a-4c9f-893d-80204de23cb1",
   "metadata": {},
   "outputs": [
    {
     "name": "stdout",
     "output_type": "stream",
     "text": [
      "R2 Score 0.999983210436721\n",
      "Coefficients [ 1.26843857 -0.01638254  0.01613461  3.87681967]\n"
     ]
    }
   ],
   "source": [
    "# And we can also try another function with four different coefficients. \n",
    "\n",
    "def function2(data, alpha, beta, gamma, delta):\n",
    "    duration = data[0]\n",
    "    bytes_xmit = data[1]\n",
    "    bytes_xfer = data[2]\n",
    "    return duration * alpha + bytes_xmit * beta + bytes_xfer*gamma + delta\n",
    "\n",
    "score, coeff = calculate_coeff(X, Y, function2)\n",
    "print(f'R2 Score {score}')\n",
    "print(f'Coefficients {coeff}')"
   ]
  },
  {
   "cell_type": "code",
   "execution_count": null,
   "id": "b4e54564-7be6-4ebe-ae4a-320eb1ec9270",
   "metadata": {},
   "outputs": [],
   "source": []
  }
 ],
 "metadata": {
  "kernelspec": {
   "display_name": "Python 3 (ipykernel)",
   "language": "python",
   "name": "python3"
  },
  "language_info": {
   "codemirror_mode": {
    "name": "ipython",
    "version": 3
   },
   "file_extension": ".py",
   "mimetype": "text/x-python",
   "name": "python",
   "nbconvert_exporter": "python",
   "pygments_lexer": "ipython3",
   "version": "3.10.10"
  }
 },
 "nbformat": 4,
 "nbformat_minor": 5
}
