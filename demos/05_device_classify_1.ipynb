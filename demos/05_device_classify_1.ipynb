{
 "cells": [
  {
   "cell_type": "code",
   "execution_count": 1,
   "id": "1007183e-58a1-42ce-a1dd-811769a4eda9",
   "metadata": {},
   "outputs": [],
   "source": [
    "import numpy as np\n",
    "import utils as ut\n",
    "import pandas as pd \n",
    "from sklearn import tree as skt\n",
    "from sklearn import preprocessing as skp \n",
    "from sklearn.pipeline import Pipeline\n",
    "from sklearn.model_selection import cross_val_score"
   ]
  },
  {
   "cell_type": "code",
   "execution_count": 2,
   "id": "dd335100-4d19-4d56-94e1-b1b2d67910e1",
   "metadata": {},
   "outputs": [
    {
     "name": "stdout",
     "output_type": "stream",
     "text": [
      "[[ 0.    0.    9.   30.52]\n",
      " [ 1.    0.    2.    1.08]\n",
      " [ 2.    0.    7.   38.23]\n",
      " [ 3.    0.    6.   33.58]\n",
      " [ 5.    0.    9.   33.39]\n",
      " [ 6.    0.    1.    2.01]\n",
      " [ 7.    0.    9.   38.25]\n",
      " [ 8.    0.    1.    2.73]\n",
      " [ 9.    0.    8.   36.94]\n",
      " [10.    0.    2.    1.38]]\n",
      "[nan nan nan nan nan nan nan nan nan nan]\n"
     ]
    }
   ],
   "source": [
    "X, Y = ut.read_data('data/device_classify_1.csv', x_cols=4)\n",
    "\n",
    "X_labels = [\"DeviceID\",\"PeerCount\",\"DataPerConn\",\"Hour\"]\n",
    "Y_labels = \"DevType\"\n",
    "# It is a good idea to print a few numbers to validate that data has been read correctly \n",
    "\n",
    "print(X[0:10])\n",
    "print(Y[0:10])"
   ]
  },
  {
   "cell_type": "code",
   "execution_count": 3,
   "id": "7f1864f5-150d-4d71-aa82-84532594b336",
   "metadata": {},
   "outputs": [],
   "source": [
    "# So, we see that numpy is not that good at reading a column which is a text label\n",
    "# Not surprising, since it is intended to manipulate numeric arrays. \n",
    "# Let us switch to use pandas -- which does not restrict us to numeric values "
   ]
  },
  {
   "cell_type": "code",
   "execution_count": 4,
   "id": "c3d88c49-bbba-454c-8212-e1a5fea9ec34",
   "metadata": {},
   "outputs": [
    {
     "data": {
      "text/html": [
       "<div>\n",
       "<style scoped>\n",
       "    .dataframe tbody tr th:only-of-type {\n",
       "        vertical-align: middle;\n",
       "    }\n",
       "\n",
       "    .dataframe tbody tr th {\n",
       "        vertical-align: top;\n",
       "    }\n",
       "\n",
       "    .dataframe thead th {\n",
       "        text-align: right;\n",
       "    }\n",
       "</style>\n",
       "<table border=\"1\" class=\"dataframe\">\n",
       "  <thead>\n",
       "    <tr style=\"text-align: right;\">\n",
       "      <th></th>\n",
       "      <th>DeviceID</th>\n",
       "      <th>Hour</th>\n",
       "      <th>PeerCount</th>\n",
       "      <th>DataPerConn</th>\n",
       "      <th>DevType</th>\n",
       "    </tr>\n",
       "  </thead>\n",
       "  <tbody>\n",
       "    <tr>\n",
       "      <th>0</th>\n",
       "      <td>0</td>\n",
       "      <td>0</td>\n",
       "      <td>9</td>\n",
       "      <td>30.52</td>\n",
       "      <td>Video</td>\n",
       "    </tr>\n",
       "    <tr>\n",
       "      <th>1</th>\n",
       "      <td>1</td>\n",
       "      <td>0</td>\n",
       "      <td>2</td>\n",
       "      <td>1.08</td>\n",
       "      <td>Thermostat</td>\n",
       "    </tr>\n",
       "    <tr>\n",
       "      <th>2</th>\n",
       "      <td>2</td>\n",
       "      <td>0</td>\n",
       "      <td>7</td>\n",
       "      <td>38.23</td>\n",
       "      <td>Video</td>\n",
       "    </tr>\n",
       "    <tr>\n",
       "      <th>3</th>\n",
       "      <td>3</td>\n",
       "      <td>0</td>\n",
       "      <td>6</td>\n",
       "      <td>33.58</td>\n",
       "      <td>Video</td>\n",
       "    </tr>\n",
       "    <tr>\n",
       "      <th>4</th>\n",
       "      <td>5</td>\n",
       "      <td>0</td>\n",
       "      <td>9</td>\n",
       "      <td>33.39</td>\n",
       "      <td>Video</td>\n",
       "    </tr>\n",
       "  </tbody>\n",
       "</table>\n",
       "</div>"
      ],
      "text/plain": [
       "   DeviceID  Hour  PeerCount  DataPerConn     DevType\n",
       "0         0     0          9        30.52       Video\n",
       "1         1     0          2         1.08  Thermostat\n",
       "2         2     0          7        38.23       Video\n",
       "3         3     0          6        33.58       Video\n",
       "4         5     0          9        33.39       Video"
      ]
     },
     "execution_count": 4,
     "metadata": {},
     "output_type": "execute_result"
    }
   ],
   "source": [
    "df = pd.read_csv('data/device_classify_1.csv')\n",
    "df.head()"
   ]
  },
  {
   "cell_type": "code",
   "execution_count": 5,
   "id": "f78ada02-b03b-4914-83b3-527c4c3eb9ef",
   "metadata": {},
   "outputs": [],
   "source": [
    "# It is a good idea to plot the data to see what it contains \n",
    "# Let us plot the points corresponding to different types of devices \n",
    "# We will plot with PeerCount on X axis, DataPerConn on Y axis and DevType to specify color, "
   ]
  },
  {
   "cell_type": "code",
   "execution_count": 6,
   "id": "9efeb312-667c-41af-86d7-c8bca522322c",
   "metadata": {},
   "outputs": [
    {
     "data": {
      "image/png": "[encoded data removed]",
      "text/plain": [
       "<Figure size 640x480 with 1 Axes>"
      ]
     },
     "metadata": {},
     "output_type": "display_data"
    }
   ],
   "source": [
    "ut.plot_df(df,'PeerCount', 'DataPerConn', 'DevType')"
   ]
  },
  {
   "cell_type": "code",
   "execution_count": 7,
   "id": "df7bb54d-e2ac-42a2-baa1-fad44eb5ca98",
   "metadata": {},
   "outputs": [
    {
     "data": {
      "image/png": "[encoded data removed]",
      "text/plain": [
       "<Figure size 640x480 with 1 Axes>"
      ]
     },
     "metadata": {},
     "output_type": "display_data"
    }
   ],
   "source": [
    "# It looks like video is very different, but computers and thermostats are similar\n",
    "# Let us scale things down to a unit interval and then plot things again \n",
    "\n",
    "scaler = skp.MinMaxScaler()\n",
    "X = df[['PeerCount','DataPerConn']].to_numpy()\n",
    "Y = df['DevType'].to_numpy()\n",
    "scaled_X = scaler.fit_transform(X)\n",
    "scaled_df=pd.DataFrame({'PeerCount':scaled_X[:,0], 'DataPerConn':scaled_X[:,1], 'DevType':Y})\n",
    "ut.plot_df(scaled_df,'PeerCount', 'DataPerConn', 'DevType')"
   ]
  },
  {
   "cell_type": "code",
   "execution_count": 8,
   "id": "c862b104-cfce-4aae-9d37-b3e970973f3c",
   "metadata": {},
   "outputs": [
    {
     "data": {
      "text/plain": [
       "array(['Video', 'Thermostat', 'Video'], dtype=object)"
      ]
     },
     "execution_count": 8,
     "metadata": {},
     "output_type": "execute_result"
    }
   ],
   "source": [
    "# The scaled image and the unscaled image is identical except for the axes. \n",
    "# Let us train a decision tree classifier and see how well it performs. \n",
    "# We will define a pipeline like we did before. \n",
    "\n",
    "def create_pipeline(classifier): \n",
    "    myfunctions = [('PreProcess', skp.MinMaxScaler()), ('Classifier', classifier )]\n",
    "    pipeline = Pipeline(myfunctions)\n",
    "    return pipeline\n",
    "\n",
    "pipeline = create_pipeline(skt.DecisionTreeClassifier())\n",
    "\n",
    "X = df[['PeerCount','DataPerConn']].to_numpy()\n",
    "Y = df['DevType'].to_numpy()\n",
    "pipeline.fit(X,Y)\n",
    "\n",
    "# Let us check how well this pipeline will predict some classes. \n",
    "target_values = [[5, 40],[3,16],[2,50]]\n",
    "pipeline.predict(target_values)"
   ]
  },
  {
   "cell_type": "code",
   "execution_count": 9,
   "id": "7821cebf-7a0c-4f42-855f-8abe7dd676e8",
   "metadata": {},
   "outputs": [
    {
     "name": "stdout",
     "output_type": "stream",
     "text": [
      "Accuracy Score is: 1.0\n"
     ]
    }
   ],
   "source": [
    "# Assess the accuracy of the pipeline on the training data. \n",
    "\n",
    "predictions = pipeline.predict(X)\n",
    "\n",
    "from sklearn import metrics as skm \n",
    "print(f'Accuracy Score is: {skm.accuracy_score(Y, predictions)}')"
   ]
  },
  {
   "cell_type": "code",
   "execution_count": 10,
   "id": "0a0013cb-ee04-478a-8e36-77e7096c2b6b",
   "metadata": {},
   "outputs": [],
   "source": [
    "#It is not unusual for accuracy metrics to be high on data that is trained for. \n",
    "#Let us split data into two portions and then check for performance metrics\n",
    "\n",
    "from sklearn.model_selection import train_test_split\n",
    "X_train, X_test, Y_train, Y_test = train_test_split(X, Y, test_size=0.33) "
   ]
  },
  {
   "cell_type": "code",
   "execution_count": 11,
   "id": "31c2de30-2223-4791-9f01-b10b293ddc3f",
   "metadata": {},
   "outputs": [],
   "source": [
    "# Let us examine various accuracy metrics \n",
    "def print_scores(actuals, predictions):\n",
    "    print(f'Accuracy Score is: {skm.accuracy_score(actuals, predictions):.2f}')\n",
    "    print(f'Balanced Accuracy Score is: {skm.balanced_accuracy_score(actuals, predictions):.2f}')\n",
    "    print(f'Precision is: {skm.precision_score(actuals, predictions, average=\"micro\"):.2f}')\n",
    "    print(f'Recall is: {skm.recall_score(actuals, predictions, average=\"micro\"):.2f}')\n",
    "    print(f'F1 Score is: {skm.f1_score(actuals, predictions, average=\"micro\"):.2f}')\n",
    "\n",
    "\n",
    "# A convenient routine to check a specific classifier \n",
    "def check_classifier(classifier, print_cm=False):\n",
    "    pipe = create_pipeline(classifier)\n",
    "    pipe.fit(X_train, Y_train)\n",
    "    predictions = pipe.predict(X_test)\n",
    "    print_scores(Y_test, predictions)\n",
    "    if print_cm:\n",
    "        skm.ConfusionMatrixDisplay.from_predictions(Y_test, predictions, normalize='true')"
   ]
  },
  {
   "cell_type": "code",
   "execution_count": 12,
   "id": "1301e553-30c5-41cb-9976-2e712cdf7324",
   "metadata": {},
   "outputs": [
    {
     "name": "stdout",
     "output_type": "stream",
     "text": [
      "Accuracy Score is: 0.83\n",
      "Balanced Accuracy Score is: 0.69\n",
      "Precision is: 0.83\n",
      "Recall is: 0.83\n",
      "F1 Score is: 0.83\n"
     ]
    }
   ],
   "source": [
    "check_classifier(skt.DecisionTreeClassifier())"
   ]
  },
  {
   "cell_type": "code",
   "execution_count": 13,
   "id": "c5f1b220-c426-4efa-9227-55f833458a17",
   "metadata": {},
   "outputs": [
    {
     "name": "stdout",
     "output_type": "stream",
     "text": [
      "Accuracy Score is: 0.85\n",
      "Balanced Accuracy Score is: 0.73\n",
      "Precision is: 0.85\n",
      "Recall is: 0.85\n",
      "F1 Score is: 0.85\n"
     ]
    },
    {
     "data": {
      "image/png": "[encoded data removed]",
      "text/plain": [
       "<Figure size 640x480 with 2 Axes>"
      ]
     },
     "metadata": {},
     "output_type": "display_data"
    }
   ],
   "source": [
    "check_classifier(skt.DecisionTreeClassifier(),True)"
   ]
  },
  {
   "cell_type": "code",
   "execution_count": 14,
   "id": "15e74464-c430-4663-a6b2-ea4c299f8769",
   "metadata": {
    "scrolled": true
   },
   "outputs": [],
   "source": [
    "# Since all models are statistical, we can't rely on a single run and a single partition\n",
    "# A better approach is to use K-fold cross validation. \n",
    "# It it, data is split K ways, and K runs are made using one of the splits as test and others as training\n",
    "# The cross_val_score returns all the scores from there, and we will just take the average \n",
    "\n",
    "def check_classifier_cv(classifier, X, Y, cv):\n",
    "    pipe = create_pipeline(classifier)\n",
    "    score = cross_val_score(pipe, X, Y, cv=cv)\n",
    "    return np.mean(score)"
   ]
  },
  {
   "cell_type": "code",
   "execution_count": 15,
   "id": "c516a2ac-fcb7-4a47-858f-af80001e80b6",
   "metadata": {},
   "outputs": [
    {
     "name": "stdout",
     "output_type": "stream",
     "text": [
      "Cross Validation Score: 0.86\n",
      "Cross Validation Score: 0.86\n",
      "Cross Validation Score: 0.86\n"
     ]
    }
   ],
   "source": [
    "for cv in [5, 8, 10]:\n",
    "    print(f'Cross Validation Score: {check_classifier_cv(skt.DecisionTreeClassifier(), X, Y, cv):.2f}')"
   ]
  },
  {
   "cell_type": "code",
   "execution_count": null,
   "id": "04fee9ea-d61e-4060-9531-b9c009368aac",
   "metadata": {},
   "outputs": [],
   "source": []
  }
 ],
 "metadata": {
  "kernelspec": {
   "display_name": "Python 3 (ipykernel)",
   "language": "python",
   "name": "python3"
  },
  "language_info": {
   "codemirror_mode": {
    "name": "ipython",
    "version": 3
   },
   "file_extension": ".py",
   "mimetype": "text/x-python",
   "name": "python",
   "nbconvert_exporter": "python",
   "pygments_lexer": "ipython3",
   "version": "3.10.10"
  }
 },
 "nbformat": 4,
 "nbformat_minor": 5
}
