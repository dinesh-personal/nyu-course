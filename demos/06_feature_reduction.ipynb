{
 "cells": [
  {
   "cell_type": "code",
   "execution_count": 1,
   "id": "1007183e-58a1-42ce-a1dd-811769a4eda9",
   "metadata": {},
   "outputs": [],
   "source": [
    "import numpy as np\n",
    "import utils as ut\n",
    "import pandas as pd \n",
    "from sklearn import tree as skt\n",
    "from sklearn import preprocessing as skp \n",
    "from sklearn import decomposition as skd\n",
    "from sklearn import metrics as skm\n",
    "from sklearn.pipeline import Pipeline\n",
    "from sklearn.model_selection import train_test_split\n",
    "from sklearn.model_selection import cross_val_score"
   ]
  },
  {
   "cell_type": "code",
   "execution_count": 2,
   "id": "c3d88c49-bbba-454c-8212-e1a5fea9ec34",
   "metadata": {},
   "outputs": [
    {
     "data": {
      "text/html": [
       "<div>\n",
       "<style scoped>\n",
       "    .dataframe tbody tr th:only-of-type {\n",
       "        vertical-align: middle;\n",
       "    }\n",
       "\n",
       "    .dataframe tbody tr th {\n",
       "        vertical-align: top;\n",
       "    }\n",
       "\n",
       "    .dataframe thead th {\n",
       "        text-align: right;\n",
       "    }\n",
       "</style>\n",
       "<table border=\"1\" class=\"dataframe\">\n",
       "  <thead>\n",
       "    <tr style=\"text-align: right;\">\n",
       "      <th></th>\n",
       "      <th>DeviceID</th>\n",
       "      <th>Hour</th>\n",
       "      <th>PeerCount</th>\n",
       "      <th>DataPerConn</th>\n",
       "      <th>DNSConn</th>\n",
       "      <th>NTPConn</th>\n",
       "      <th>HTTPData</th>\n",
       "      <th>DevType</th>\n",
       "    </tr>\n",
       "  </thead>\n",
       "  <tbody>\n",
       "    <tr>\n",
       "      <th>0</th>\n",
       "      <td>0</td>\n",
       "      <td>0</td>\n",
       "      <td>4</td>\n",
       "      <td>39.32</td>\n",
       "      <td>2</td>\n",
       "      <td>3</td>\n",
       "      <td>29.04</td>\n",
       "      <td>Video</td>\n",
       "    </tr>\n",
       "    <tr>\n",
       "      <th>1</th>\n",
       "      <td>1</td>\n",
       "      <td>0</td>\n",
       "      <td>4</td>\n",
       "      <td>37.65</td>\n",
       "      <td>2</td>\n",
       "      <td>2</td>\n",
       "      <td>28.59</td>\n",
       "      <td>Video</td>\n",
       "    </tr>\n",
       "    <tr>\n",
       "      <th>2</th>\n",
       "      <td>2</td>\n",
       "      <td>0</td>\n",
       "      <td>4</td>\n",
       "      <td>32.11</td>\n",
       "      <td>1</td>\n",
       "      <td>2</td>\n",
       "      <td>24.82</td>\n",
       "      <td>Video</td>\n",
       "    </tr>\n",
       "    <tr>\n",
       "      <th>3</th>\n",
       "      <td>3</td>\n",
       "      <td>0</td>\n",
       "      <td>11</td>\n",
       "      <td>34.11</td>\n",
       "      <td>3</td>\n",
       "      <td>1</td>\n",
       "      <td>24.32</td>\n",
       "      <td>Computer</td>\n",
       "    </tr>\n",
       "    <tr>\n",
       "      <th>4</th>\n",
       "      <td>4</td>\n",
       "      <td>0</td>\n",
       "      <td>3</td>\n",
       "      <td>2.98</td>\n",
       "      <td>1</td>\n",
       "      <td>1</td>\n",
       "      <td>2.35</td>\n",
       "      <td>Thermostat</td>\n",
       "    </tr>\n",
       "  </tbody>\n",
       "</table>\n",
       "</div>"
      ],
      "text/plain": [
       "   DeviceID  Hour  PeerCount  DataPerConn  DNSConn  NTPConn  HTTPData  \\\n",
       "0         0     0          4        39.32        2        3     29.04   \n",
       "1         1     0          4        37.65        2        2     28.59   \n",
       "2         2     0          4        32.11        1        2     24.82   \n",
       "3         3     0         11        34.11        3        1     24.32   \n",
       "4         4     0          3         2.98        1        1      2.35   \n",
       "\n",
       "      DevType  \n",
       "0       Video  \n",
       "1       Video  \n",
       "2       Video  \n",
       "3    Computer  \n",
       "4  Thermostat  "
      ]
     },
     "execution_count": 2,
     "metadata": {},
     "output_type": "execute_result"
    }
   ],
   "source": [
    "df = pd.read_csv('data/feature_reduction.csv')\n",
    "df.head()"
   ]
  },
  {
   "cell_type": "code",
   "execution_count": 3,
   "id": "fc2a43ba-5343-4b77-a78f-3e8c58091b75",
   "metadata": {},
   "outputs": [],
   "source": [
    "# Let us scale the data \n",
    "X_columns = ['PeerCount','DataPerConn', 'DNSConn',\t'NTPConn',\t'HTTPData']\n",
    "Y_column = 'DevType'\n",
    "scaler = skp.MinMaxScaler()\n",
    "X = df[X_columns].to_numpy()\n",
    "Y = df[Y_column].tolist()"
   ]
  },
  {
   "cell_type": "code",
   "execution_count": 4,
   "id": "df58e698-060e-4c6a-bcb0-26ecb7f3723c",
   "metadata": {},
   "outputs": [
    {
     "name": "stdout",
     "output_type": "stream",
     "text": [
      "Num PC Components: 1, Accuracy: 0.84\n",
      "Num PC Components: 2, Accuracy: 0.94\n",
      "Num PC Components: 3, Accuracy: 0.94\n",
      "Num PC Components: 4, Accuracy: 0.94\n",
      "Num PC Components: 5, Accuracy: 0.90\n"
     ]
    }
   ],
   "source": [
    "# We can define different types of PCA reduction to pass through the pipeline \n",
    "# Let us see what the impact of passing the pipeline is for various PCA components \n",
    "# Originally, the number of components is 5\n",
    "\n",
    "def get_pipeline(num_pca_components):\n",
    "    tasks = list()\n",
    "    tasks.append(('Scale', skp.MinMaxScaler()))\n",
    "    tasks.append(('PCA', skd.PCA(n_components=num_pca_components)))\n",
    "    tasks.append(('Classifier', skt.DecisionTreeClassifier()))\n",
    "    return Pipeline(tasks) \n",
    "\n",
    "\n",
    "def check_classifier_cv(pipe, X, Y, cv):\n",
    "    score = cross_val_score(pipe, X, Y, cv=cv)\n",
    "    return np.mean(score)\n",
    "\n",
    "def test_pipeline(pipe, X, Y):\n",
    "    X_train, X_test, Y_train, Y_test = train_test_split(X, Y, test_size=0.33)\n",
    "    pipe.fit(X_train,Y_train)\n",
    "    predictions = pipe.predict(X_test)\n",
    "    return skm.accuracy_score(Y_test, predictions)\n",
    "    \n",
    "    \n",
    "for i in [1, 2, 3, 4, 5]:\n",
    "    pipe = get_pipeline(i)\n",
    "    print(f'Num PC Components: {i}, Accuracy: {check_classifier_cv(pipe,X,Y,5):.2f}')  \n",
    "    "
   ]
  },
  {
   "cell_type": "code",
   "execution_count": 5,
   "id": "a9080eb1-3f59-48a2-af9d-82c588f71ace",
   "metadata": {},
   "outputs": [],
   "source": [
    "# We can see which component gets the best performance. \n",
    "# Note, we need to run the experiments a few times to get the best average statistics \n",
    "# Let us compare it to a pipeline which does not use any PCA component "
   ]
  },
  {
   "cell_type": "code",
   "execution_count": 6,
   "id": "f78ada02-b03b-4914-83b3-527c4c3eb9ef",
   "metadata": {},
   "outputs": [
    {
     "name": "stdout",
     "output_type": "stream",
     "text": [
      " Accuracy: 0.96\n"
     ]
    }
   ],
   "source": [
    "# Since there are two many dimensions, we can't easily visualize it. \n",
    "# PCA allows us a way to project the information to 2 dimensions, so we can visualize it better\n",
    "# Let us map the X_features to a 2-dimensional PCA space \n",
    "\n",
    "def get_basic_pipeline():\n",
    "    tasks = list()\n",
    "    tasks.append(('Scale', skp.MinMaxScaler()))\n",
    "    tasks.append(('Classifier', skt.DecisionTreeClassifier()))\n",
    "    return Pipeline(tasks) \n",
    "\n",
    "bpipe = get_basic_pipeline()\n",
    "print(f' Accuracy: {check_classifier_cv(bpipe,X,Y,5):.2f}')  "
   ]
  },
  {
   "cell_type": "code",
   "execution_count": 7,
   "id": "9efeb312-667c-41af-86d7-c8bca522322c",
   "metadata": {},
   "outputs": [
    {
     "data": {
      "image/png": "[encoded data removed]",
      "text/plain": [
       "<Figure size 640x480 with 1 Axes>"
      ]
     },
     "metadata": {},
     "output_type": "display_data"
    }
   ],
   "source": [
    "# Another benefit of a PCA decomposiiton is that we can visualize the data \n",
    "# The visualization is done by projecting the data into a 2-dimensional space. \n",
    "\n",
    "def plot_pca_view(X,Y):\n",
    "    scaler = skp.MinMaxScaler()\n",
    "    scaled_X = scaler.fit_transform(X)\n",
    "    pca = skd.PCA(n_components=2)\n",
    "    pca_X = pca.fit_transform(scaled_X)\n",
    "    pca_df = pd.DataFrame({'PCA1':pca_X[:,0], 'PCA2': pca_X[:,1], 'Y':Y})\n",
    "    ut.plot_df(pca_df,'PCA1', 'PCA2', 'Y')\n",
    "\n",
    "plot_pca_view(X,Y)"
   ]
  }
 ],
 "metadata": {
  "kernelspec": {
   "display_name": "Python 3 (ipykernel)",
   "language": "python",
   "name": "python3"
  },
  "language_info": {
   "codemirror_mode": {
    "name": "ipython",
    "version": 3
   },
   "file_extension": ".py",
   "mimetype": "text/x-python",
   "name": "python",
   "nbconvert_exporter": "python",
   "pygments_lexer": "ipython3",
   "version": "3.10.10"
  }
 },
 "nbformat": 4,
 "nbformat_minor": 5
}
