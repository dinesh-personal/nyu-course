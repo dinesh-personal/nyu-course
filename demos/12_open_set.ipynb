{
 "cells": [
  {
   "cell_type": "code",
   "execution_count": 2,
   "id": "1007183e-58a1-42ce-a1dd-811769a4eda9",
   "metadata": {},
   "outputs": [],
   "source": [
    "import numpy as np\n",
    "import pandas as pd \n",
    "from sklearn import preprocessing as skp \n",
    "from sklearn import decomposition as skd\n",
    "import utils as ut"
   ]
  },
  {
   "cell_type": "code",
   "execution_count": 7,
   "id": "c3d88c49-bbba-454c-8212-e1a5fea9ec34",
   "metadata": {},
   "outputs": [
    {
     "name": "stdout",
     "output_type": "stream",
     "text": [
      "The Columns are ['ts' 'uid' 'id.orig_h' 'id.orig_p' 'id.resp_h' 'id.resp_p' 'proto'\n",
      " 'trans_id' 'rtt' 'query' 'qclass' 'qclass_name' 'qtype' 'qtype_name'\n",
      " 'rcode' 'rcode_name' 'AA' 'TC' 'RD' 'RA' 'Z' 'answers' 'TTLs' 'rejected']\n"
     ]
    },
    {
     "data": {
      "text/html": [
       "<div>\n",
       "<style scoped>\n",
       "    .dataframe tbody tr th:only-of-type {\n",
       "        vertical-align: middle;\n",
       "    }\n",
       "\n",
       "    .dataframe tbody tr th {\n",
       "        vertical-align: top;\n",
       "    }\n",
       "\n",
       "    .dataframe thead th {\n",
       "        text-align: right;\n",
       "    }\n",
       "</style>\n",
       "<table border=\"1\" class=\"dataframe\">\n",
       "  <thead>\n",
       "    <tr style=\"text-align: right;\">\n",
       "      <th></th>\n",
       "      <th>ts</th>\n",
       "      <th>uid</th>\n",
       "      <th>id.orig_h</th>\n",
       "      <th>id.orig_p</th>\n",
       "      <th>id.resp_h</th>\n",
       "      <th>id.resp_p</th>\n",
       "      <th>proto</th>\n",
       "      <th>trans_id</th>\n",
       "      <th>rtt</th>\n",
       "      <th>query</th>\n",
       "      <th>...</th>\n",
       "      <th>rcode</th>\n",
       "      <th>rcode_name</th>\n",
       "      <th>AA</th>\n",
       "      <th>TC</th>\n",
       "      <th>RD</th>\n",
       "      <th>RA</th>\n",
       "      <th>Z</th>\n",
       "      <th>answers</th>\n",
       "      <th>TTLs</th>\n",
       "      <th>rejected</th>\n",
       "    </tr>\n",
       "  </thead>\n",
       "  <tbody>\n",
       "    <tr>\n",
       "      <th>0</th>\n",
       "      <td>1.474726e+09</td>\n",
       "      <td>Cmq5BD4abGJE9M6Dn6</td>\n",
       "      <td>192.168.1.166</td>\n",
       "      <td>45136</td>\n",
       "      <td>192.168.1.1</td>\n",
       "      <td>53</td>\n",
       "      <td>udp</td>\n",
       "      <td>31287</td>\n",
       "      <td>0.284601</td>\n",
       "      <td>babyws.withings.net</td>\n",
       "      <td>...</td>\n",
       "      <td>0.0</td>\n",
       "      <td>NOERROR</td>\n",
       "      <td>False</td>\n",
       "      <td>False</td>\n",
       "      <td>True</td>\n",
       "      <td>True</td>\n",
       "      <td>0</td>\n",
       "      <td>[89.30.121.150]</td>\n",
       "      <td>[600.0]</td>\n",
       "      <td>False</td>\n",
       "    </tr>\n",
       "    <tr>\n",
       "      <th>1</th>\n",
       "      <td>1.474726e+09</td>\n",
       "      <td>CqS2E81hhnbbAo7xH9</td>\n",
       "      <td>192.168.1.120</td>\n",
       "      <td>37616</td>\n",
       "      <td>192.168.1.1</td>\n",
       "      <td>53</td>\n",
       "      <td>udp</td>\n",
       "      <td>379</td>\n",
       "      <td>0.000366</td>\n",
       "      <td>sip.invoxia.com</td>\n",
       "      <td>...</td>\n",
       "      <td>0.0</td>\n",
       "      <td>NOERROR</td>\n",
       "      <td>False</td>\n",
       "      <td>False</td>\n",
       "      <td>True</td>\n",
       "      <td>True</td>\n",
       "      <td>0</td>\n",
       "      <td>[46.105.38.79]</td>\n",
       "      <td>[602.0]</td>\n",
       "      <td>False</td>\n",
       "    </tr>\n",
       "    <tr>\n",
       "      <th>2</th>\n",
       "      <td>1.474726e+09</td>\n",
       "      <td>CLGxUt3vdwASMqHn66</td>\n",
       "      <td>192.168.1.196</td>\n",
       "      <td>4355</td>\n",
       "      <td>192.168.1.1</td>\n",
       "      <td>53</td>\n",
       "      <td>udp</td>\n",
       "      <td>159</td>\n",
       "      <td>0.004368</td>\n",
       "      <td>pool.ntp.org</td>\n",
       "      <td>...</td>\n",
       "      <td>0.0</td>\n",
       "      <td>NOERROR</td>\n",
       "      <td>False</td>\n",
       "      <td>False</td>\n",
       "      <td>True</td>\n",
       "      <td>True</td>\n",
       "      <td>0</td>\n",
       "      <td>[27.124.125.250, 129.250.35.251, 202.60.94.15,...</td>\n",
       "      <td>[56.0, 56.0, 56.0, 56.0]</td>\n",
       "      <td>False</td>\n",
       "    </tr>\n",
       "    <tr>\n",
       "      <th>3</th>\n",
       "      <td>1.474726e+09</td>\n",
       "      <td>C3R8kh48F3GhWB5y4c</td>\n",
       "      <td>192.168.1.249</td>\n",
       "      <td>43171</td>\n",
       "      <td>192.168.1.1</td>\n",
       "      <td>53</td>\n",
       "      <td>udp</td>\n",
       "      <td>16295</td>\n",
       "      <td>0.021244</td>\n",
       "      <td>www.samsungsmartcam.com</td>\n",
       "      <td>...</td>\n",
       "      <td>0.0</td>\n",
       "      <td>NOERROR</td>\n",
       "      <td>False</td>\n",
       "      <td>False</td>\n",
       "      <td>True</td>\n",
       "      <td>True</td>\n",
       "      <td>0</td>\n",
       "      <td>[www.samsungsmartcam.com.edgekey.net, e6081.b....</td>\n",
       "      <td>[60.0, 4631.0, 20.0]</td>\n",
       "      <td>False</td>\n",
       "    </tr>\n",
       "    <tr>\n",
       "      <th>4</th>\n",
       "      <td>1.474726e+09</td>\n",
       "      <td>C3R8kh48F3GhWB5y4c</td>\n",
       "      <td>192.168.1.249</td>\n",
       "      <td>43171</td>\n",
       "      <td>192.168.1.1</td>\n",
       "      <td>53</td>\n",
       "      <td>udp</td>\n",
       "      <td>16295</td>\n",
       "      <td>0.000324</td>\n",
       "      <td>www.samsungsmartcam.com</td>\n",
       "      <td>...</td>\n",
       "      <td>0.0</td>\n",
       "      <td>NOERROR</td>\n",
       "      <td>False</td>\n",
       "      <td>False</td>\n",
       "      <td>True</td>\n",
       "      <td>True</td>\n",
       "      <td>0</td>\n",
       "      <td>[www.samsungsmartcam.com.edgekey.net, e6081.b....</td>\n",
       "      <td>[55.0, 4626.0, 15.0]</td>\n",
       "      <td>False</td>\n",
       "    </tr>\n",
       "  </tbody>\n",
       "</table>\n",
       "<p>5 rows × 24 columns</p>\n",
       "</div>"
      ],
      "text/plain": [
       "             ts                 uid      id.orig_h  id.orig_p    id.resp_h  \\\n",
       "0  1.474726e+09  Cmq5BD4abGJE9M6Dn6  192.168.1.166      45136  192.168.1.1   \n",
       "1  1.474726e+09  CqS2E81hhnbbAo7xH9  192.168.1.120      37616  192.168.1.1   \n",
       "2  1.474726e+09  CLGxUt3vdwASMqHn66  192.168.1.196       4355  192.168.1.1   \n",
       "3  1.474726e+09  C3R8kh48F3GhWB5y4c  192.168.1.249      43171  192.168.1.1   \n",
       "4  1.474726e+09  C3R8kh48F3GhWB5y4c  192.168.1.249      43171  192.168.1.1   \n",
       "\n",
       "   id.resp_p proto  trans_id       rtt                    query  ...  rcode  \\\n",
       "0         53   udp     31287  0.284601      babyws.withings.net  ...    0.0   \n",
       "1         53   udp       379  0.000366          sip.invoxia.com  ...    0.0   \n",
       "2         53   udp       159  0.004368             pool.ntp.org  ...    0.0   \n",
       "3         53   udp     16295  0.021244  www.samsungsmartcam.com  ...    0.0   \n",
       "4         53   udp     16295  0.000324  www.samsungsmartcam.com  ...    0.0   \n",
       "\n",
       "  rcode_name     AA     TC    RD    RA  Z  \\\n",
       "0    NOERROR  False  False  True  True  0   \n",
       "1    NOERROR  False  False  True  True  0   \n",
       "2    NOERROR  False  False  True  True  0   \n",
       "3    NOERROR  False  False  True  True  0   \n",
       "4    NOERROR  False  False  True  True  0   \n",
       "\n",
       "                                             answers  \\\n",
       "0                                    [89.30.121.150]   \n",
       "1                                     [46.105.38.79]   \n",
       "2  [27.124.125.250, 129.250.35.251, 202.60.94.15,...   \n",
       "3  [www.samsungsmartcam.com.edgekey.net, e6081.b....   \n",
       "4  [www.samsungsmartcam.com.edgekey.net, e6081.b....   \n",
       "\n",
       "                       TTLs  rejected  \n",
       "0                   [600.0]     False  \n",
       "1                   [602.0]     False  \n",
       "2  [56.0, 56.0, 56.0, 56.0]     False  \n",
       "3      [60.0, 4631.0, 20.0]     False  \n",
       "4      [55.0, 4626.0, 15.0]     False  \n",
       "\n",
       "[5 rows x 24 columns]"
      ]
     },
     "execution_count": 7,
     "metadata": {},
     "output_type": "execute_result"
    }
   ],
   "source": [
    "# For this example, we will use a modified set of data from UNSW Logs generated by Bro/Zeke. \n",
    "# For reference, we will just read the logs for a day and see what a raw dns log looks like \n",
    "raw_df = pd.read_json('unsw/day_logs/dns.log', lines=True)\n",
    "print(f'The Columns are {raw_df.columns.values}')\n",
    "\n",
    "# Let us also see what the entries look like. \n",
    "raw_df.head()"
   ]
  },
  {
   "cell_type": "code",
   "execution_count": 9,
   "id": "d6a69e15-1d8e-42cd-bf1c-c68892978bf2",
   "metadata": {},
   "outputs": [],
   "source": [
    "#For illustration of Open Set Problem, we have simplifies the data set \n",
    "# The simplified data set consits of only the source IP address, the time-stamp and the DNS name queries. \n",
    "# These are saved into a test training dataset and a training dataset. \n",
    "# The ground truth of which Source IP address maps belongs to which Vendor is stored in a CSV file. \n",
    "\n",
    "#Let us read all the three files. We will convert the ground_df into a directory with key of Source IP address\n",
    "# and the value being the Vendor \n",
    "\n",
    "train_df = pd.read_csv('unsw/openset_dns_train.csv')\n",
    "test_df = pd.read_csv('unsw/openset_dns_test.csv')\n",
    "ground_df = pd.read_csv('unsw/ground_truth.csv')\n",
    "ground_dict=ground_df[['SrcIPAddress','Vendor']].set_index('SrcIPAddress')['Vendor'].to_dict()"
   ]
  },
  {
   "cell_type": "code",
   "execution_count": 12,
   "id": "b2e84ad9-3d00-44c3-862b-963ddbe8fc4b",
   "metadata": {},
   "outputs": [],
   "source": [
    "# Let us define some constants so we don't have to worry about mistyping \n",
    "SRC_IP='id.orig_h'\n",
    "QUERY='query'"
   ]
  },
  {
   "cell_type": "code",
   "execution_count": 16,
   "id": "7fe1f987",
   "metadata": {},
   "outputs": [],
   "source": [
    "#Let us get all the IP addresses from the training set, and the test set, and print their Vendors \n",
    "def print_devices(df,truth_dict):\n",
    "    keys = set(df[SRC_IP].to_list())\n",
    "    for key in keys:\n",
    "        print(f'{key} : {truth_dict[key]}')\n",
    "\n",
    "def get_vendors(df, truth_dict):\n",
    "    keys = set(df[SRC_IP].to_list())\n",
    "    return([truth_dict[key] for key in keys])\n"
   ]
  },
  {
   "cell_type": "code",
   "execution_count": 14,
   "id": "e96222d9-a690-4439-8c3e-a142ee480e05",
   "metadata": {},
   "outputs": [
    {
     "name": "stdout",
     "output_type": "stream",
     "text": [
      "192.168.1.241 : Netatmo\n",
      "192.168.1.227 : TP-Link\n",
      "192.168.1.249 : Samsung\n",
      "192.168.1.166 : Withings\n",
      "192.168.1.143 : TP-Link\n",
      "192.168.1.240 : Amazon\n"
     ]
    }
   ],
   "source": [
    "# Print the set of devices in the training set\n",
    "print_devices(train_df, ground_dict)"
   ]
  },
  {
   "cell_type": "code",
   "execution_count": 15,
   "id": "b07625b3-5c85-4843-95f8-def009f5a14a",
   "metadata": {},
   "outputs": [
    {
     "name": "stdout",
     "output_type": "stream",
     "text": [
      "192.168.1.238 : Withings\n",
      "192.168.1.168 : Google\n",
      "192.168.1.120 : Triby\n",
      "192.168.1.227 : TP-Link\n",
      "192.168.1.112 : Netatmo\n",
      "192.168.1.166 : Withings\n",
      "192.168.1.177 : PixStar\n"
     ]
    }
   ],
   "source": [
    "# Print the set of devices in the test set\n",
    "print_devices(test_df, ground_dict)"
   ]
  },
  {
   "cell_type": "code",
   "execution_count": 19,
   "id": "f415d3be-689c-4747-b08d-d7de4185c391",
   "metadata": {},
   "outputs": [
    {
     "name": "stdout",
     "output_type": "stream",
     "text": [
      "Vendors in training data set ['Netatmo', 'TP-Link', 'Samsung', 'Withings', 'TP-Link', 'Amazon']\n",
      "Vendors in testing data set ['Netatmo', 'TP-Link', 'Samsung', 'Withings', 'TP-Link', 'Amazon']\n",
      "Vendors in test data not in training data set: ['Google', 'Triby', 'PixStar']\n",
      "Vendors in common training data set: ['Withings', 'TP-Link', 'Netatmo', 'Withings']\n"
     ]
    }
   ],
   "source": [
    "# See which devices are in the test set but not in the data set \n",
    "train_vendors = get_vendors(train_df, ground_dict)\n",
    "test_vendors = get_vendors(test_df, ground_dict)\n",
    "print(f'Vendors in training data set {train_vendors}')\n",
    "print(f'Vendors in testing data set {train_vendors}')\n",
    "print(f'Vendors in test data not in training data set: {[x for x in test_vendors if x not in train_vendors ]}')\n",
    "print(f'Vendors in common training data set: {[x for x in test_vendors if x  in train_vendors ]}')"
   ]
  },
  {
   "cell_type": "code",
   "execution_count": 21,
   "id": "557a4e30-82b0-4270-9a39-33af1c7afae3",
   "metadata": {},
   "outputs": [],
   "source": [
    "# Now we will create a pipeline to train on DNS names, \n",
    "# This pipeline uses TFIDF Vectorizer over a document of DNS names to predict the vendors \n",
    "\n",
    "#The get_XY converts all DNS queries made by the device into a document containing the names queries\n",
    "\n",
    "def get_XY(df, ground_truth):\n",
    "    doc_df = df.groupby(['id.orig_h'])['query'].apply(list).reset_index(name='X') \n",
    "    queries = doc_df['X'].to_list()\n",
    "    X = [','.join(x) for x in queries]\n",
    "    keys = doc_df['id.orig_h'].to_list()\n",
    "    Y = [ground_truth[x] for x in keys]\n",
    "    return X,Y\n",
    "\n",
    "from sklearn.feature_extraction.text import TfidfVectorizer\n",
    "import sklearn.tree as skt \n",
    "from sklearn.pipeline import Pipeline\n",
    "\n",
    "def create_pipeline(classifier): \n",
    "    myfunctions = [('PreProcess', TfidfVectorizer()), ('Classifier', classifier )]\n",
    "    pipeline = Pipeline(myfunctions)\n",
    "    return pipeline\n",
    "\n",
    "pipeline = create_pipeline(skt.DecisionTreeClassifier())"
   ]
  },
  {
   "cell_type": "code",
   "execution_count": 22,
   "id": "b928698e-aedf-4c04-881a-60d0e164819c",
   "metadata": {},
   "outputs": [
    {
     "name": "stdout",
     "output_type": "stream",
     "text": [
      "['Withings' 'Withings' 'Withings' 'Withings' 'Withings' 'TP-Link'\n",
      " 'Withings']\n",
      "['Netatmo', 'Triby', 'Withings', 'Google', 'PixStar', 'TP-Link', 'Withings']\n"
     ]
    }
   ],
   "source": [
    "# Now train the pipeline on testing data set and see how it performs: \n",
    "train_X,train_Y=get_XY(train_df, ground_dict)\n",
    "pipeline.fit(train_X,train_Y)\n",
    "\n",
    "test_X, test_Y = get_XY(test_df, ground_dict) \n",
    "pred = pipeline.predict(test_X)\n",
    "print(pred)\n",
    "print(test_Y)"
   ]
  },
  {
   "cell_type": "code",
   "execution_count": null,
   "id": "1a807223-9493-473e-b51f-e92284c3cc6a",
   "metadata": {},
   "outputs": [],
   "source": [
    "# As you can see, the prediction for Vendors in test data not in training data set: ['Google', 'Triby', 'PixStar']\n",
    "# is not very good. "
   ]
  }
 ],
 "metadata": {
  "kernelspec": {
   "display_name": "Python 3 (ipykernel)",
   "language": "python",
   "name": "python3"
  },
  "language_info": {
   "codemirror_mode": {
    "name": "ipython",
    "version": 3
   },
   "file_extension": ".py",
   "mimetype": "text/x-python",
   "name": "python",
   "nbconvert_exporter": "python",
   "pygments_lexer": "ipython3",
   "version": "3.10.10"
  }
 },
 "nbformat": 4,
 "nbformat_minor": 5
}
