{
 "cells": [
  {
   "cell_type": "code",
   "execution_count": 1,
   "id": "1007183e-58a1-42ce-a1dd-811769a4eda9",
   "metadata": {},
   "outputs": [],
   "source": [
    "import pandas as pd \n",
    "import netutils as net\n",
    "import utils as ut"
   ]
  },
  {
   "cell_type": "code",
   "execution_count": 2,
   "id": "c3d88c49-bbba-454c-8212-e1a5fea9ec34",
   "metadata": {},
   "outputs": [
    {
     "name": "stdout",
     "output_type": "stream",
     "text": [
      "The Columns are ['ts' 'uid' 'id.orig_h' 'id.orig_p' 'id.resp_h' 'id.resp_p' 'proto'\n",
      " 'service' 'duration' 'orig_bytes' 'resp_bytes' 'conn_state'\n",
      " 'missed_bytes' 'history' 'orig_pkts' 'orig_ip_bytes' 'resp_pkts'\n",
      " 'resp_ip_bytes' 'orig_l2_addr' 'resp_l2_addr']\n"
     ]
    },
    {
     "data": {
      "text/html": [
       "<div>\n",
       "<style scoped>\n",
       "    .dataframe tbody tr th:only-of-type {\n",
       "        vertical-align: middle;\n",
       "    }\n",
       "\n",
       "    .dataframe tbody tr th {\n",
       "        vertical-align: top;\n",
       "    }\n",
       "\n",
       "    .dataframe thead th {\n",
       "        text-align: right;\n",
       "    }\n",
       "</style>\n",
       "<table border=\"1\" class=\"dataframe\">\n",
       "  <thead>\n",
       "    <tr style=\"text-align: right;\">\n",
       "      <th></th>\n",
       "      <th>ts</th>\n",
       "      <th>uid</th>\n",
       "      <th>id.orig_h</th>\n",
       "      <th>id.orig_p</th>\n",
       "      <th>id.resp_h</th>\n",
       "      <th>id.resp_p</th>\n",
       "      <th>proto</th>\n",
       "      <th>service</th>\n",
       "      <th>duration</th>\n",
       "      <th>orig_bytes</th>\n",
       "      <th>resp_bytes</th>\n",
       "      <th>conn_state</th>\n",
       "      <th>missed_bytes</th>\n",
       "      <th>history</th>\n",
       "      <th>orig_pkts</th>\n",
       "      <th>orig_ip_bytes</th>\n",
       "      <th>resp_pkts</th>\n",
       "      <th>resp_ip_bytes</th>\n",
       "      <th>orig_l2_addr</th>\n",
       "      <th>resp_l2_addr</th>\n",
       "    </tr>\n",
       "  </thead>\n",
       "  <tbody>\n",
       "    <tr>\n",
       "      <th>0</th>\n",
       "      <td>1.474726e+09</td>\n",
       "      <td>COK7PAJLfH51Z8sMj</td>\n",
       "      <td>192.168.1.166</td>\n",
       "      <td>53716</td>\n",
       "      <td>89.30.121.150</td>\n",
       "      <td>80</td>\n",
       "      <td>tcp</td>\n",
       "      <td>http</td>\n",
       "      <td>1.166575</td>\n",
       "      <td>1846.0</td>\n",
       "      <td>290.0</td>\n",
       "      <td>SF</td>\n",
       "      <td>0</td>\n",
       "      <td>ShADdaFf</td>\n",
       "      <td>8</td>\n",
       "      <td>2270</td>\n",
       "      <td>5</td>\n",
       "      <td>558</td>\n",
       "      <td>00:24:e4:11:18:a8</td>\n",
       "      <td>14:cc:20:51:33:ea</td>\n",
       "    </tr>\n",
       "    <tr>\n",
       "      <th>1</th>\n",
       "      <td>1.474726e+09</td>\n",
       "      <td>Cmq5BD4abGJE9M6Dn6</td>\n",
       "      <td>192.168.1.166</td>\n",
       "      <td>45136</td>\n",
       "      <td>192.168.1.1</td>\n",
       "      <td>53</td>\n",
       "      <td>udp</td>\n",
       "      <td>dns</td>\n",
       "      <td>0.284601</td>\n",
       "      <td>37.0</td>\n",
       "      <td>242.0</td>\n",
       "      <td>SF</td>\n",
       "      <td>0</td>\n",
       "      <td>Dd</td>\n",
       "      <td>1</td>\n",
       "      <td>65</td>\n",
       "      <td>1</td>\n",
       "      <td>270</td>\n",
       "      <td>00:24:e4:11:18:a8</td>\n",
       "      <td>14:cc:20:51:33:ea</td>\n",
       "    </tr>\n",
       "    <tr>\n",
       "      <th>2</th>\n",
       "      <td>1.474726e+09</td>\n",
       "      <td>CqS2E81hhnbbAo7xH9</td>\n",
       "      <td>192.168.1.120</td>\n",
       "      <td>37616</td>\n",
       "      <td>192.168.1.1</td>\n",
       "      <td>53</td>\n",
       "      <td>udp</td>\n",
       "      <td>dns</td>\n",
       "      <td>0.000366</td>\n",
       "      <td>33.0</td>\n",
       "      <td>49.0</td>\n",
       "      <td>SF</td>\n",
       "      <td>0</td>\n",
       "      <td>Dd</td>\n",
       "      <td>1</td>\n",
       "      <td>61</td>\n",
       "      <td>1</td>\n",
       "      <td>77</td>\n",
       "      <td>18:b7:9e:02:20:44</td>\n",
       "      <td>14:cc:20:51:33:ea</td>\n",
       "    </tr>\n",
       "    <tr>\n",
       "      <th>3</th>\n",
       "      <td>1.474726e+09</td>\n",
       "      <td>C3mgb9JSnpUFR1cK4</td>\n",
       "      <td>192.168.1.193</td>\n",
       "      <td>3872</td>\n",
       "      <td>192.168.1.249</td>\n",
       "      <td>49152</td>\n",
       "      <td>tcp</td>\n",
       "      <td>http</td>\n",
       "      <td>0.043867</td>\n",
       "      <td>186.0</td>\n",
       "      <td>1170.0</td>\n",
       "      <td>SF</td>\n",
       "      <td>0</td>\n",
       "      <td>ShADadfF</td>\n",
       "      <td>5</td>\n",
       "      <td>454</td>\n",
       "      <td>5</td>\n",
       "      <td>1438</td>\n",
       "      <td>ec:1a:59:83:28:11</td>\n",
       "      <td>00:16:6c:ab:6b:88</td>\n",
       "    </tr>\n",
       "    <tr>\n",
       "      <th>4</th>\n",
       "      <td>1.474726e+09</td>\n",
       "      <td>CqjW6D4N17JsNNyk4a</td>\n",
       "      <td>192.168.1.193</td>\n",
       "      <td>4024</td>\n",
       "      <td>192.168.1.223</td>\n",
       "      <td>49153</td>\n",
       "      <td>tcp</td>\n",
       "      <td>http</td>\n",
       "      <td>0.044333</td>\n",
       "      <td>183.0</td>\n",
       "      <td>3617.0</td>\n",
       "      <td>SF</td>\n",
       "      <td>0</td>\n",
       "      <td>ShADadfF</td>\n",
       "      <td>7</td>\n",
       "      <td>555</td>\n",
       "      <td>7</td>\n",
       "      <td>3989</td>\n",
       "      <td>ec:1a:59:83:28:11</td>\n",
       "      <td>ec:1a:59:79:f4:89</td>\n",
       "    </tr>\n",
       "  </tbody>\n",
       "</table>\n",
       "</div>"
      ],
      "text/plain": [
       "             ts                 uid      id.orig_h  id.orig_p      id.resp_h  \\\n",
       "0  1.474726e+09   COK7PAJLfH51Z8sMj  192.168.1.166      53716  89.30.121.150   \n",
       "1  1.474726e+09  Cmq5BD4abGJE9M6Dn6  192.168.1.166      45136    192.168.1.1   \n",
       "2  1.474726e+09  CqS2E81hhnbbAo7xH9  192.168.1.120      37616    192.168.1.1   \n",
       "3  1.474726e+09   C3mgb9JSnpUFR1cK4  192.168.1.193       3872  192.168.1.249   \n",
       "4  1.474726e+09  CqjW6D4N17JsNNyk4a  192.168.1.193       4024  192.168.1.223   \n",
       "\n",
       "   id.resp_p proto service  duration  orig_bytes  resp_bytes conn_state  \\\n",
       "0         80   tcp    http  1.166575      1846.0       290.0         SF   \n",
       "1         53   udp     dns  0.284601        37.0       242.0         SF   \n",
       "2         53   udp     dns  0.000366        33.0        49.0         SF   \n",
       "3      49152   tcp    http  0.043867       186.0      1170.0         SF   \n",
       "4      49153   tcp    http  0.044333       183.0      3617.0         SF   \n",
       "\n",
       "   missed_bytes   history  orig_pkts  orig_ip_bytes  resp_pkts  resp_ip_bytes  \\\n",
       "0             0  ShADdaFf          8           2270          5            558   \n",
       "1             0        Dd          1             65          1            270   \n",
       "2             0        Dd          1             61          1             77   \n",
       "3             0  ShADadfF          5            454          5           1438   \n",
       "4             0  ShADadfF          7            555          7           3989   \n",
       "\n",
       "        orig_l2_addr       resp_l2_addr  \n",
       "0  00:24:e4:11:18:a8  14:cc:20:51:33:ea  \n",
       "1  00:24:e4:11:18:a8  14:cc:20:51:33:ea  \n",
       "2  18:b7:9e:02:20:44  14:cc:20:51:33:ea  \n",
       "3  ec:1a:59:83:28:11  00:16:6c:ab:6b:88  \n",
       "4  ec:1a:59:83:28:11  ec:1a:59:79:f4:89  "
      ]
     },
     "execution_count": 2,
     "metadata": {},
     "output_type": "execute_result"
    }
   ],
   "source": [
    "# Our first task is to identify all the IP addresses that are in the environment. \n",
    "# The logs produced include: conn.log, dhcp.log, dns.log, ssl.log, http.log \n",
    "conn_df = pd.read_json('unsw/day_logs/conn.log', lines=True)\n",
    "print(f'The Columns are {conn_df.columns.values}')\n",
    "\n",
    "# Let us also see what the entries look like. \n",
    "conn_df.head()"
   ]
  },
  {
   "cell_type": "code",
   "execution_count": 3,
   "id": "b2e84ad9-3d00-44c3-862b-963ddbe8fc4b",
   "metadata": {},
   "outputs": [
    {
     "name": "stdout",
     "output_type": "stream",
     "text": [
      "The Columns are ['ts' 'uids' 'client_addr' 'server_addr' 'mac' 'assigned_addr'\n",
      " 'lease_time' 'msg_types' 'duration' 'subnet_mask' 'routers' 'dns_servers'\n",
      " 'requested_addr' 'domain' 'host_name']\n"
     ]
    },
    {
     "data": {
      "text/html": [
       "<div>\n",
       "<style scoped>\n",
       "    .dataframe tbody tr th:only-of-type {\n",
       "        vertical-align: middle;\n",
       "    }\n",
       "\n",
       "    .dataframe tbody tr th {\n",
       "        vertical-align: top;\n",
       "    }\n",
       "\n",
       "    .dataframe thead th {\n",
       "        text-align: right;\n",
       "    }\n",
       "</style>\n",
       "<table border=\"1\" class=\"dataframe\">\n",
       "  <thead>\n",
       "    <tr style=\"text-align: right;\">\n",
       "      <th></th>\n",
       "      <th>ts</th>\n",
       "      <th>uids</th>\n",
       "      <th>client_addr</th>\n",
       "      <th>server_addr</th>\n",
       "      <th>mac</th>\n",
       "      <th>assigned_addr</th>\n",
       "      <th>lease_time</th>\n",
       "      <th>msg_types</th>\n",
       "      <th>duration</th>\n",
       "      <th>subnet_mask</th>\n",
       "      <th>routers</th>\n",
       "      <th>dns_servers</th>\n",
       "      <th>requested_addr</th>\n",
       "      <th>domain</th>\n",
       "      <th>host_name</th>\n",
       "    </tr>\n",
       "  </thead>\n",
       "  <tbody>\n",
       "    <tr>\n",
       "      <th>0</th>\n",
       "      <td>1.474726e+09</td>\n",
       "      <td>[CIOVRi3LzvT6RirLt5, CkrHcZ1y43zvJOWL4i]</td>\n",
       "      <td>192.168.1.112</td>\n",
       "      <td>192.168.1.1</td>\n",
       "      <td>70:ee:50:03:b8:ac</td>\n",
       "      <td>192.168.1.112</td>\n",
       "      <td>43200.0</td>\n",
       "      <td>[DISCOVER, DISCOVER, OFFER, OFFER, DISCOVER, O...</td>\n",
       "      <td>5.854226</td>\n",
       "      <td>255.255.255.0</td>\n",
       "      <td>[192.168.1.1]</td>\n",
       "      <td>[192.168.1.1]</td>\n",
       "      <td>NaN</td>\n",
       "      <td>NaN</td>\n",
       "      <td>NaN</td>\n",
       "    </tr>\n",
       "    <tr>\n",
       "      <th>1</th>\n",
       "      <td>1.474726e+09</td>\n",
       "      <td>[CIOVRi3LzvT6RirLt5, CkrHcZ1y43zvJOWL4i]</td>\n",
       "      <td>192.168.1.112</td>\n",
       "      <td>192.168.1.1</td>\n",
       "      <td>70:ee:50:03:b8:ac</td>\n",
       "      <td>192.168.1.112</td>\n",
       "      <td>43200.0</td>\n",
       "      <td>[DISCOVER, OFFER, DISCOVER, OFFER]</td>\n",
       "      <td>16.016445</td>\n",
       "      <td>255.255.255.0</td>\n",
       "      <td>[192.168.1.1]</td>\n",
       "      <td>[192.168.1.1]</td>\n",
       "      <td>NaN</td>\n",
       "      <td>NaN</td>\n",
       "      <td>NaN</td>\n",
       "    </tr>\n",
       "    <tr>\n",
       "      <th>2</th>\n",
       "      <td>1.474726e+09</td>\n",
       "      <td>[CIOVRi3LzvT6RirLt5, CkrHcZ1y43zvJOWL4i]</td>\n",
       "      <td>192.168.1.112</td>\n",
       "      <td>192.168.1.1</td>\n",
       "      <td>70:ee:50:03:b8:ac</td>\n",
       "      <td>192.168.1.112</td>\n",
       "      <td>43200.0</td>\n",
       "      <td>[DISCOVER, DISCOVER, OFFER, OFFER, DISCOVER, O...</td>\n",
       "      <td>13.661959</td>\n",
       "      <td>255.255.255.0</td>\n",
       "      <td>[192.168.1.1]</td>\n",
       "      <td>[192.168.1.1]</td>\n",
       "      <td>NaN</td>\n",
       "      <td>NaN</td>\n",
       "      <td>NaN</td>\n",
       "    </tr>\n",
       "    <tr>\n",
       "      <th>3</th>\n",
       "      <td>1.474726e+09</td>\n",
       "      <td>[CIOVRi3LzvT6RirLt5, CkrHcZ1y43zvJOWL4i]</td>\n",
       "      <td>192.168.1.112</td>\n",
       "      <td>192.168.1.1</td>\n",
       "      <td>70:ee:50:03:b8:ac</td>\n",
       "      <td>192.168.1.112</td>\n",
       "      <td>43200.0</td>\n",
       "      <td>[DISCOVER, OFFER]</td>\n",
       "      <td>0.000812</td>\n",
       "      <td>255.255.255.0</td>\n",
       "      <td>[192.168.1.1]</td>\n",
       "      <td>[192.168.1.1]</td>\n",
       "      <td>NaN</td>\n",
       "      <td>NaN</td>\n",
       "      <td>NaN</td>\n",
       "    </tr>\n",
       "    <tr>\n",
       "      <th>4</th>\n",
       "      <td>1.474726e+09</td>\n",
       "      <td>[CIOVRi3LzvT6RirLt5, CkrHcZ1y43zvJOWL4i]</td>\n",
       "      <td>192.168.1.112</td>\n",
       "      <td>192.168.1.1</td>\n",
       "      <td>70:ee:50:03:b8:ac</td>\n",
       "      <td>192.168.1.112</td>\n",
       "      <td>43200.0</td>\n",
       "      <td>[DISCOVER, DISCOVER, OFFER, OFFER, DISCOVER, O...</td>\n",
       "      <td>13.961972</td>\n",
       "      <td>255.255.255.0</td>\n",
       "      <td>[192.168.1.1]</td>\n",
       "      <td>[192.168.1.1]</td>\n",
       "      <td>NaN</td>\n",
       "      <td>NaN</td>\n",
       "      <td>NaN</td>\n",
       "    </tr>\n",
       "  </tbody>\n",
       "</table>\n",
       "</div>"
      ],
      "text/plain": [
       "             ts                                      uids    client_addr  \\\n",
       "0  1.474726e+09  [CIOVRi3LzvT6RirLt5, CkrHcZ1y43zvJOWL4i]  192.168.1.112   \n",
       "1  1.474726e+09  [CIOVRi3LzvT6RirLt5, CkrHcZ1y43zvJOWL4i]  192.168.1.112   \n",
       "2  1.474726e+09  [CIOVRi3LzvT6RirLt5, CkrHcZ1y43zvJOWL4i]  192.168.1.112   \n",
       "3  1.474726e+09  [CIOVRi3LzvT6RirLt5, CkrHcZ1y43zvJOWL4i]  192.168.1.112   \n",
       "4  1.474726e+09  [CIOVRi3LzvT6RirLt5, CkrHcZ1y43zvJOWL4i]  192.168.1.112   \n",
       "\n",
       "   server_addr                mac  assigned_addr  lease_time  \\\n",
       "0  192.168.1.1  70:ee:50:03:b8:ac  192.168.1.112     43200.0   \n",
       "1  192.168.1.1  70:ee:50:03:b8:ac  192.168.1.112     43200.0   \n",
       "2  192.168.1.1  70:ee:50:03:b8:ac  192.168.1.112     43200.0   \n",
       "3  192.168.1.1  70:ee:50:03:b8:ac  192.168.1.112     43200.0   \n",
       "4  192.168.1.1  70:ee:50:03:b8:ac  192.168.1.112     43200.0   \n",
       "\n",
       "                                           msg_types   duration  \\\n",
       "0  [DISCOVER, DISCOVER, OFFER, OFFER, DISCOVER, O...   5.854226   \n",
       "1                 [DISCOVER, OFFER, DISCOVER, OFFER]  16.016445   \n",
       "2  [DISCOVER, DISCOVER, OFFER, OFFER, DISCOVER, O...  13.661959   \n",
       "3                                  [DISCOVER, OFFER]   0.000812   \n",
       "4  [DISCOVER, DISCOVER, OFFER, OFFER, DISCOVER, O...  13.961972   \n",
       "\n",
       "     subnet_mask        routers    dns_servers requested_addr domain host_name  \n",
       "0  255.255.255.0  [192.168.1.1]  [192.168.1.1]            NaN    NaN       NaN  \n",
       "1  255.255.255.0  [192.168.1.1]  [192.168.1.1]            NaN    NaN       NaN  \n",
       "2  255.255.255.0  [192.168.1.1]  [192.168.1.1]            NaN    NaN       NaN  \n",
       "3  255.255.255.0  [192.168.1.1]  [192.168.1.1]            NaN    NaN       NaN  \n",
       "4  255.255.255.0  [192.168.1.1]  [192.168.1.1]            NaN    NaN       NaN  "
      ]
     },
     "execution_count": 3,
     "metadata": {},
     "output_type": "execute_result"
    }
   ],
   "source": [
    "# Let us first explore what we can learn about the system by examining the DHCP Logs \n",
    "# DHCP is contacted by every client when they want to get a local address \n",
    "# There may be some machines that do not get addresses using DHCP \n",
    "# First let us read the DHCP log into memory \n",
    "\n",
    "dhcp_df = pd.read_json('unsw/day_logs/dhcp.log', lines=True)\n",
    "print(f'The Columns are {dhcp_df.columns.values}')\n",
    "\n",
    "# Let us also see what the entries look like. \n",
    "dhcp_df.head()"
   ]
  },
  {
   "cell_type": "code",
   "execution_count": 4,
   "id": "a4f3924c-128f-4084-9a5a-32ec6f3af940",
   "metadata": {},
   "outputs": [
    {
     "name": "stdout",
     "output_type": "stream",
     "text": [
      "Unique DNS Servers: ['192.168.1.1']\n",
      "Unique Routers: ['192.168.1.1']\n",
      "Unique Subnet Masks: ['255.255.255.0']\n",
      "Unique DHCP Servers: ['192.168.1.1']\n"
     ]
    }
   ],
   "source": [
    "# Let us see how many routers, local DNS servers and subnet masks are provided by DHCP \n",
    "print(f'Unique DNS Servers: {net.get_unique_entries(dhcp_df, net.DHCP_DNS, True)}')\n",
    "print(f'Unique Routers: {net.get_unique_entries(dhcp_df, net.DHCP_ROUTER, True)}')\n",
    "print(f'Unique Subnet Masks: {net.get_unique_entries(dhcp_df, net.DHCP_SUBNET_MASK, False)}')\n",
    "print(f'Unique DHCP Servers: {net.get_unique_entries(dhcp_df, net.DHCP_SERVER, False)}')"
   ]
  },
  {
   "cell_type": "code",
   "execution_count": 5,
   "id": "5876e5cd-d43b-4d81-a954-072ba9006765",
   "metadata": {},
   "outputs": [],
   "source": [
    "# In this particular log, we only have one unique DNS and one unique router provided by DHCP Server. \n",
    "# This looks like a single subnet with an Access Point of 192.168.1.1. The machine IP address is last octet. "
   ]
  },
  {
   "cell_type": "code",
   "execution_count": 6,
   "id": "2d786cce-b7b6-4f73-82fc-431610d4efec",
   "metadata": {},
   "outputs": [
    {
     "name": "stdout",
     "output_type": "stream",
     "text": [
      "Number of unique mappings are: 15\n",
      "       client_addr                mac\n",
      "0    192.168.1.112  70:ee:50:03:b8:ac\n",
      "42   192.168.1.238  00:24:e4:1b:6f:96\n",
      "62   192.168.1.106  30:8c:fb:2f:e4:b2\n",
      "122  192.168.1.143  f4:f2:6d:93:51:f1\n",
      "124  192.168.1.120  18:b7:9e:02:20:44\n",
      "153  192.168.1.239  08:21:ef:3b:fc:e3\n",
      "157  192.168.1.240  44:65:0d:56:cc:d3\n",
      "165  192.168.1.241  70:ee:50:18:34:43\n",
      "177  192.168.1.236  70:5a:0f:e4:9b:c0\n",
      "180  192.168.1.227  50:c7:bf:00:56:39\n",
      "181  192.168.1.166  00:24:e4:11:18:a8\n",
      "201  192.168.1.177  e0:76:d0:33:bb:85\n",
      "212  192.168.1.249  00:16:6c:ab:6b:88\n",
      "253  192.168.1.196  d0:52:a8:00:67:5e\n",
      "384  192.168.1.168  18:b4:30:25:be:e4\n"
     ]
    }
   ],
   "source": [
    "#Let us see how many clients contact dhcp \n",
    "dhcp_clients = net.get_unique_subset(dhcp_df, [net.DHCP_CLIENT, net.DHCP_MAC])\n",
    "print(f'Number of unique mappings are: {dhcp_clients.shape[0]}')\n",
    "print(dhcp_clients)"
   ]
  },
  {
   "cell_type": "code",
   "execution_count": 7,
   "id": "944e0803-2fc8-4e64-a456-02a9ba992acb",
   "metadata": {},
   "outputs": [
    {
     "name": "stdout",
     "output_type": "stream",
     "text": [
      "15 ['192.168.1.227', '192.168.1.249', '192.168.1.106', '192.168.1.120', '192.168.1.239', '192.168.1.240', '192.168.1.143', '192.168.1.236', '192.168.1.166', '192.168.1.241', '192.168.1.112', '192.168.1.238', '192.168.1.196', '192.168.1.177', '192.168.1.168']\n"
     ]
    }
   ],
   "source": [
    "# Let us also see if there are any clients which are contacting DHCP Server without a MAC address. \n",
    "# This is going to list all members, and if there are more than 15 then those are DHCP whose MAC are not known. \n",
    "entries = list(set(list(dhcp_df[net.DHCP_CLIENT].unique())))\n",
    "print(len(entries), entries)"
   ]
  },
  {
   "cell_type": "code",
   "execution_count": 8,
   "id": "8a2fa4e8-dd77-4a69-b993-5eb7d70e655a",
   "metadata": {},
   "outputs": [],
   "source": [
    "# Now, we know that there are exactly 15 addresses, so all clients have MAC addresses. "
   ]
  },
  {
   "cell_type": "code",
   "execution_count": 9,
   "id": "7fe1f987",
   "metadata": {},
   "outputs": [
    {
     "name": "stdout",
     "output_type": "stream",
     "text": [
      "192.168.1.106 -> 30:8c:fb:2f:e4:b2\n",
      "192.168.1.112 -> 70:ee:50:03:b8:ac\n",
      "192.168.1.120 -> 18:b7:9e:02:20:44\n",
      "192.168.1.131 -> 74:6a:89:00:2e:25\n",
      "192.168.1.143 -> f4:f2:6d:93:51:f1\n",
      "192.168.1.166 -> 00:24:e4:11:18:a8\n",
      "192.168.1.168 -> 18:b4:30:25:be:e4\n",
      "192.168.1.177 -> e0:76:d0:33:bb:85\n",
      "192.168.1.196 -> d0:52:a8:00:67:5e\n",
      "192.168.1.208 -> 74:2f:68:81:69:42\n",
      "192.168.1.227 -> 50:c7:bf:00:56:39\n",
      "192.168.1.228 -> d0:a6:37:df:a1:e1\n",
      "192.168.1.236 -> 70:5a:0f:e4:9b:c0\n",
      "192.168.1.238 -> 00:24:e4:1b:6f:96\n",
      "192.168.1.239 -> 08:21:ef:3b:fc:e3\n",
      "192.168.1.240 -> 44:65:0d:56:cc:d3\n",
      "192.168.1.241 -> 70:ee:50:18:34:43\n",
      "192.168.1.248 -> b4:ce:f6:a7:a3:c2\n",
      "192.168.1.249 -> 00:16:6c:ab:6b:88\n"
     ]
    }
   ],
   "source": [
    "# We are also going to read the groud truth and see whether we have missed any IP addresses. \n",
    "#ground_df = pd.read_csv('unsw/ground_truth.csv')\n",
    "#ground_dict=ground_df[['SrcIPAddress','mac']].set_index('SrcIPAddress')['mac'].to_dict()\n",
    "\n",
    "ground_dict = ut.read_as_dict('unsw/ground_truth.csv','SrcIPAddress','mac')\n",
    "for key in ground_dict:\n",
    "    print(f'{key} -> {ground_dict[key]}')"
   ]
  },
  {
   "cell_type": "code",
   "execution_count": 10,
   "id": "e96222d9-a690-4439-8c3e-a142ee480e05",
   "metadata": {},
   "outputs": [],
   "source": [
    "#Let us see if all the devices are in the ground truth and if the ground truth information matches the dhcp data \n",
    "#dhcp_dict=dhcp_clients.set_index(net.DHCP_CLIENT)[net.DHCP_MAC].to_dict()\n",
    "dhcp_dict = ut.df_2_dict(dhcp_clients,net.DHCP_CLIENT,net.DHCP_MAC)"
   ]
  },
  {
   "cell_type": "code",
   "execution_count": 11,
   "id": "b07625b3-5c85-4843-95f8-def009f5a14a",
   "metadata": {},
   "outputs": [
    {
     "name": "stdout",
     "output_type": "stream",
     "text": [
      "Present in DHCP - Missing from Ground: []\n",
      "Present in Ground - Missing from DHCP: ['192.168.1.131', '192.168.1.208', '192.168.1.228', '192.168.1.248']\n"
     ]
    }
   ],
   "source": [
    "#Let us compare the two dictionaries \n",
    "print(f'Present in DHCP - Missing from Ground: {[x for x in dhcp_dict if x not in ground_dict]}')\n",
    "print(f'Present in Ground - Missing from DHCP: {[x for x in ground_dict if x not in dhcp_dict]}')"
   ]
  },
  {
   "cell_type": "code",
   "execution_count": 12,
   "id": "1a807223-9493-473e-b51f-e92284c3cc6a",
   "metadata": {},
   "outputs": [
    {
     "name": "stdout",
     "output_type": "stream",
     "text": [
      "[]\n"
     ]
    }
   ],
   "source": [
    "#Check whether the DHCP Addresses and MAC addresses in the two dictionaries match \n",
    "mismatch = [x for x in dhcp_dict if dhcp_dict[x] != ground_dict[x]]\n",
    "print(mismatch)"
   ]
  },
  {
   "cell_type": "code",
   "execution_count": 13,
   "id": "c041edb8-8145-445b-8780-edac9c81b529",
   "metadata": {},
   "outputs": [
    {
     "name": "stdout",
     "output_type": "stream",
     "text": [
      "['192.168.1.193', '192.168.1.223', '192.168.1.1']\n"
     ]
    }
   ],
   "source": [
    "# Let us find the set of local IP addresses that are client in connection log as well as servers in the connection logs \n",
    "client_ip = list(conn_df[net.SRC_IP].unique())\n",
    "not_found = [x for x in client_ip if x not in dhcp_dict.keys() and x.startswith('192.168.1.')]\n",
    "print(not_found)"
   ]
  },
  {
   "cell_type": "code",
   "execution_count": 14,
   "id": "4616feb7-8f3a-4cdc-9326-e7f2ef2b05ff",
   "metadata": {},
   "outputs": [
    {
     "name": "stdout",
     "output_type": "stream",
     "text": [
      "Not found address: 192.168.1.193\n",
      "Not found address: 192.168.1.223\n"
     ]
    }
   ],
   "source": [
    "# So we see that there are three addresses in the connection log that did not make a DHCP Request. \n",
    "# We know from the head of the dhcp_df that 192.168.1.1 is the router and DHCP and DNS Server \n",
    "# Let us see if the others are present in the ground truth \n",
    "for x in ['192.168.1.193', '192.168.1.223']:\n",
    "    mac_ground = ground_dict.get(x,None)\n",
    "    mac_dhcp = dhcp_dict.get(x,None)\n",
    "    if mac_ground is None and mac_dhcp is None:\n",
    "        print(f'Not found address: {x}')\n",
    "    elif mac_ground is None:\n",
    "        print(f'Found in DHCP: {x} -> {mac_dhcp}')\n",
    "    elif mac_dhcp is None:\n",
    "        print(f'Found in DHCP: {x} -> {mac_ground}')\n",
    "    else:\n",
    "        print(f'Found both {x} -> Ground: {mac_ground} , DHCP: {mac_dhcp}')    \n",
    "\n",
    "# So we have two unknown addresses where we do not know the ground truth -- as to what these machines are "
   ]
  },
  {
   "cell_type": "code",
   "execution_count": 15,
   "id": "441174e8-e20c-47fa-8a52-80f9c8d40a17",
   "metadata": {},
   "outputs": [
    {
     "name": "stdout",
     "output_type": "stream",
     "text": [
      "        id.orig_h       orig_l2_addr\n",
      "3   192.168.1.193  ec:1a:59:83:28:11\n",
      "17  192.168.1.223  ec:1a:59:79:f4:89\n"
     ]
    }
   ],
   "source": [
    "# Can we find the MAC addresses for the mystery devices \n",
    "conn_subset = conn_df[conn_df[net.SRC_IP].isin(['192.168.1.193', '192.168.1.223'])]\n",
    "unknown_df = conn_subset[[net.SRC_IP, net.SRC_MAC]].drop_duplicates().dropna()\n",
    "print(unknown_df)"
   ]
  },
  {
   "cell_type": "code",
   "execution_count": 16,
   "id": "d05b2ba1-45e1-413f-b1b8-5c10202e9bbc",
   "metadata": {},
   "outputs": [],
   "source": [
    "# From looking at the OUI from IEEE standards database, we can now determine that these \n",
    "# devices are from Belkin International Inc."
   ]
  },
  {
   "cell_type": "code",
   "execution_count": 17,
   "id": "403dd62e-949f-4754-bda4-4f86b5760d1a",
   "metadata": {},
   "outputs": [
    {
     "name": "stdout",
     "output_type": "stream",
     "text": [
      "Local Servers: 5 ['192.168.1.1', '192.168.1.249', '192.168.1.223', '192.168.1.193', '192.168.1.241']\n",
      "In Ground Truth: 2 ['192.168.1.249', '192.168.1.241']\n",
      "Not in Ground Truth: ['192.168.1.1', '192.168.1.223', '192.168.1.193']\n"
     ]
    }
   ],
   "source": [
    "# We should also explore what clients and servers are present in the local network. \n",
    "# Let us find the servers which are in domain 192.168.1. and see which ports they are listening on\n",
    "server_ip = list(conn_df[conn_df[net.CONN_STATE]==\"SF\"][net.DEST_IP].unique())\n",
    "local_servers = [x for x in server_ip if x.startswith('192.168.1.')]\n",
    "print('Local Servers:', len(local_servers), local_servers)\n",
    "in_ground = [x for x in local_servers if x in ground_dict.keys()]\n",
    "print('In Ground Truth:', len(in_ground), in_ground)\n",
    "print('Not in Ground Truth:', [x for x in local_servers if x not in in_ground])\n"
   ]
  },
  {
   "cell_type": "code",
   "execution_count": 18,
   "id": "dee0925f-124d-4792-8d86-869771d5575c",
   "metadata": {},
   "outputs": [
    {
     "name": "stdout",
     "output_type": "stream",
     "text": [
      "Ports 192.168.1.1 is contacted on: [67, 53]\n",
      "Ports 192.168.1.249 is contacted on: [49152]\n",
      "Ports 192.168.1.223 is contacted on: [49153]\n",
      "Ports 192.168.1.193 is contacted on: [49154]\n",
      "Ports 192.168.1.241 is contacted on: [46194]\n"
     ]
    }
   ],
   "source": [
    "#Let us try to find out which ports people are trying to connect to the local_servers.\n",
    "# We will only use connections in state SF which is established. \n",
    "\n",
    "\n",
    "for x in local_servers:\n",
    "    ports = net.get_server_port(x, conn_df)\n",
    "    print(f'Ports {x} is contacted on: {ports}')"
   ]
  },
  {
   "cell_type": "code",
   "execution_count": null,
   "id": "45acba7b-6558-45bb-91dc-bfab77517a36",
   "metadata": {},
   "outputs": [],
   "source": []
  },
  {
   "cell_type": "code",
   "execution_count": 19,
   "id": "31653f4c-52ee-4a92-bee8-8fcede7bc7c8",
   "metadata": {},
   "outputs": [
    {
     "name": "stdout",
     "output_type": "stream",
     "text": [
      "Checking Address:192.168.1.249\n",
      "       id.orig_h  id.resp_p\n",
      "3  192.168.1.193      49152\n",
      "-------\n",
      "Checking Address:192.168.1.223\n",
      "       id.orig_h  id.resp_p\n",
      "4  192.168.1.193      49153\n",
      "-------\n",
      "Checking Address:192.168.1.193\n",
      "        id.orig_h  id.resp_p\n",
      "61  192.168.1.223      49154\n",
      "-------\n",
      "Checking Address:192.168.1.241\n",
      "          id.orig_h  id.resp_p\n",
      "24974  52.8.186.218      46194\n",
      "-------\n"
     ]
    }
   ],
   "source": [
    "for x in local_servers:\n",
    "    if x != '192.168.1.1':\n",
    "        print(f'Checking Address:{x}')\n",
    "        print(net.find_clients(x, conn_df))\n",
    "        print('-------')"
   ]
  },
  {
   "cell_type": "code",
   "execution_count": 20,
   "id": "742837db-a4f1-46e2-bbf2-699fb47e14b7",
   "metadata": {},
   "outputs": [],
   "source": [
    "# Now, we know that 49152 is the port used for dynamic port range by applications \n",
    "# So, the two mystery devices are the ones that are trying to connect to local servers. \n",
    "# The Mystery thickens. "
   ]
  },
  {
   "cell_type": "code",
   "execution_count": 21,
   "id": "8099d3dc-71f1-49b3-bff2-e13224f28cf2",
   "metadata": {},
   "outputs": [
    {
     "name": "stdout",
     "output_type": "stream",
     "text": [
      "36\n"
     ]
    }
   ],
   "source": [
    "conn_clients = net.get_unique_entries(conn_df, net.SRC_IP, is_list=False)\n",
    "print(len(conn_clients))"
   ]
  },
  {
   "cell_type": "code",
   "execution_count": 22,
   "id": "c540b32e-f34a-4b4c-8d21-07100c5ff977",
   "metadata": {},
   "outputs": [
    {
     "name": "stdout",
     "output_type": "stream",
     "text": [
      "['192.168.1.166', '192.168.1.120', '192.168.1.193', '62.210.178.168', '192.168.1.196', '192.168.1.240', '192.168.1.223', '192.168.1.249', 'fe80::16cc:20ff:fe51:33ea', 'fe80::725a:fff:fee4:9bc0', 'fe80::72ee:50ff:fe18:3443', 'fe80::ee1a:59ff:fe79:f489', 'fe80::e276:d0ff:fe33:bb85', 'fe80::ee1a:59ff:fe83:2811', 'fe80::216:6cff:feab:6b88', '192.168.1.241', 'fe80::a21:efff:fe3b:fce3', '192.168.1.177', '192.168.1.143', '149.171.37.162', '192.168.1.1', '0.0.0.0', '192.168.1.112', '192.168.1.227', '192.168.1.239', '74.125.203.188', '192.168.1.238', '192.168.1.106', '64.233.189.188', '192.168.1.236', '192.168.1.168', '::', 'fe80::1ab4:30ff:fe25:bee4', '52.8.186.218', '64.233.188.188', '89.30.121.13']\n"
     ]
    }
   ],
   "source": [
    "# There are a lot more clients in the connection log than we have in DHCP or Ground Truth. \n",
    "# Let us take a look at what they are \n",
    "print(conn_clients) "
   ]
  },
  {
   "cell_type": "code",
   "execution_count": 23,
   "id": "95ab23b9-53f7-4f51-95e5-98ba2494465a",
   "metadata": {},
   "outputs": [],
   "source": [
    "# We see that there are a lot of IPV6 addresses. We also see some addreses of 0.0.0. \n",
    "# Let us check on what is going on there by examining the connection log \n"
   ]
  },
  {
   "cell_type": "code",
   "execution_count": 24,
   "id": "da0580b7-e109-4bc1-a009-a02b25793064",
   "metadata": {},
   "outputs": [],
   "source": [
    "# On examination, we will find that the 0.0.0 are dhcp requests. \n",
    "# This is done by DHCP requests when the client IP address is not assigned. \n",
    "# So, we can ignore this address for the sake of counting clients. "
   ]
  },
  {
   "cell_type": "code",
   "execution_count": 25,
   "id": "42a40d64-e9df-481c-a730-a05403e021b2",
   "metadata": {},
   "outputs": [
    {
     "name": "stdout",
     "output_type": "stream",
     "text": [
      "Group: 00:16:6c:ab:6b:88 with 2 entries\n",
      "                   id.orig_h       orig_l2_addr\n",
      "18             192.168.1.249  00:16:6c:ab:6b:88\n",
      "44  fe80::216:6cff:feab:6b88  00:16:6c:ab:6b:88\n",
      "Group: 00:24:e4:11:18:a8 with 1 entries\n",
      "       id.orig_h       orig_l2_addr\n",
      "0  192.168.1.166  00:24:e4:11:18:a8\n",
      "Group: 00:24:e4:1b:6f:96 with 2 entries\n",
      "          id.orig_h       orig_l2_addr\n",
      "1340  192.168.1.238  00:24:e4:1b:6f:96\n",
      "1362        0.0.0.0  00:24:e4:1b:6f:96\n",
      "Group: 08:21:ef:3b:fc:e3 with 2 entries\n",
      "                    id.orig_h       orig_l2_addr\n",
      "107  fe80::a21:efff:fe3b:fce3  08:21:ef:3b:fc:e3\n",
      "230             192.168.1.239  08:21:ef:3b:fc:e3\n",
      "Group: 14:cc:20:51:33:ea with 9 entries\n",
      "                       id.orig_h       orig_l2_addr\n",
      "13                62.210.178.168  14:cc:20:51:33:ea\n",
      "21     fe80::16cc:20ff:fe51:33ea  14:cc:20:51:33:ea\n",
      "163               149.171.37.162  14:cc:20:51:33:ea\n",
      "192                  192.168.1.1  14:cc:20:51:33:ea\n",
      "285               74.125.203.188  14:cc:20:51:33:ea\n",
      "3982              64.233.189.188  14:cc:20:51:33:ea\n",
      "24974               52.8.186.218  14:cc:20:51:33:ea\n",
      "27496             64.233.188.188  14:cc:20:51:33:ea\n",
      "34701               89.30.121.13  14:cc:20:51:33:ea\n",
      "Group: 18:b4:30:25:be:e4 with 4 entries\n",
      "                       id.orig_h       orig_l2_addr\n",
      "13804              192.168.1.168  18:b4:30:25:be:e4\n",
      "13822                         ::  18:b4:30:25:be:e4\n",
      "13824  fe80::1ab4:30ff:fe25:bee4  18:b4:30:25:be:e4\n",
      "13829                    0.0.0.0  18:b4:30:25:be:e4\n",
      "Group: 18:b7:9e:02:20:44 with 1 entries\n",
      "       id.orig_h       orig_l2_addr\n",
      "2  192.168.1.120  18:b7:9e:02:20:44\n",
      "Group: 30:8c:fb:2f:e4:b2 with 1 entries\n",
      "          id.orig_h       orig_l2_addr\n",
      "2210  192.168.1.106  30:8c:fb:2f:e4:b2\n",
      "Group: 44:65:0d:56:cc:d3 with 1 entries\n",
      "        id.orig_h       orig_l2_addr\n",
      "15  192.168.1.240  44:65:0d:56:cc:d3\n",
      "Group: 50:c7:bf:00:56:39 with 1 entries\n",
      "         id.orig_h       orig_l2_addr\n",
      "229  192.168.1.227  50:c7:bf:00:56:39\n",
      "Group: 70:5a:0f:e4:9b:c0 with 2 entries\n",
      "                     id.orig_h       orig_l2_addr\n",
      "31    fe80::725a:fff:fee4:9bc0  70:5a:0f:e4:9b:c0\n",
      "6679             192.168.1.236  70:5a:0f:e4:9b:c0\n",
      "Group: 70:ee:50:03:b8:ac with 2 entries\n",
      "         id.orig_h       orig_l2_addr\n",
      "210        0.0.0.0  70:ee:50:03:b8:ac\n",
      "211  192.168.1.112  70:ee:50:03:b8:ac\n",
      "Group: 70:ee:50:18:34:43 with 4 entries\n",
      "                       id.orig_h       orig_l2_addr\n",
      "32     fe80::72ee:50ff:fe18:3443  70:ee:50:18:34:43\n",
      "77                 192.168.1.241  70:ee:50:18:34:43\n",
      "17183                         ::  70:ee:50:18:34:43\n",
      "24953                    0.0.0.0  70:ee:50:18:34:43\n",
      "Group: d0:52:a8:00:67:5e with 1 entries\n",
      "        id.orig_h       orig_l2_addr\n",
      "14  192.168.1.196  d0:52:a8:00:67:5e\n",
      "Group: e0:76:d0:33:bb:85 with 2 entries\n",
      "                     id.orig_h       orig_l2_addr\n",
      "39   fe80::e276:d0ff:fe33:bb85  e0:76:d0:33:bb:85\n",
      "115              192.168.1.177  e0:76:d0:33:bb:85\n",
      "Group: ec:1a:59:79:f4:89 with 2 entries\n",
      "                    id.orig_h       orig_l2_addr\n",
      "17              192.168.1.223  ec:1a:59:79:f4:89\n",
      "33  fe80::ee1a:59ff:fe79:f489  ec:1a:59:79:f4:89\n",
      "Group: ec:1a:59:83:28:11 with 2 entries\n",
      "                    id.orig_h       orig_l2_addr\n",
      "3               192.168.1.193  ec:1a:59:83:28:11\n",
      "41  fe80::ee1a:59ff:fe83:2811  ec:1a:59:83:28:11\n",
      "Group: f4:f2:6d:93:51:f1 with 1 entries\n",
      "         id.orig_h       orig_l2_addr\n",
      "159  192.168.1.143  f4:f2:6d:93:51:f1\n"
     ]
    }
   ],
   "source": [
    "# Let us see what the IPV6 addresses are doing in this log \n",
    "# Checking on the system shows that they are sending ICMP messages to other IPV6 addresses \n",
    "# If we check the connection log again, we can see that they contain the MAC addresses as well. \n",
    "# Let us see which of our various devices have MAC addresses that we can match to the various devices. \n",
    "# Note that the log MAC address probably only contains the local ones. \n",
    "client_map = net.get_unique_subset(conn_df, [net.SRC_IP, net.SRC_MAC])\n",
    "grouped = client_map.groupby(net.SRC_MAC)\n",
    "for name, group in grouped:\n",
    "    print(f\"Group: {name} with {group.shape[0]} entries\")\n",
    "    print(group)"
   ]
  },
  {
   "cell_type": "code",
   "execution_count": 26,
   "id": "5cf2faec-a917-4d6e-ab09-90d05d7c5aac",
   "metadata": {},
   "outputs": [],
   "source": [
    "# Looking at the addreses, we can see that in most cases, the MAC corresponds to one or 2 Client IP addresses\n",
    "# In the case of 2 IP addresses, one of them is an IPV6 address and one of these is an IPV4 address. \n",
    "# This also allows us to determine the equivalence among clients -- which interface has the V4, V6 and MAC address. \n",
    "# One of the group has multiple IP addresses corresponding to the same MAC address. This is the router interface. \n",
    "# So, we know that the addresses -- \n",
    "#  62.210.178.168, 149.171.37.162,  74.125.203.188 , 64.233.189.188, 52.8.186.218, 64.233.188.188, 89.30.121.13 \n",
    "#    are all on another subnet and are connecting via the router interface 192.168.1.1 with MAC 14:cc:20:51:33:ea\n"
   ]
  },
  {
   "cell_type": "code",
   "execution_count": 27,
   "id": "6c5e8a8f-f05e-4704-9feb-e4c6109d8b24",
   "metadata": {},
   "outputs": [],
   "source": [
    "#Let us also look at the destination MAC and destination for the same. \n",
    "# We will exclude 14:cc:20:51:33:ea since it will have many external IP addresses. "
   ]
  },
  {
   "cell_type": "code",
   "execution_count": 28,
   "id": "a8575221-b3d2-4e3e-ae13-e67c9b1b6cce",
   "metadata": {},
   "outputs": [
    {
     "name": "stdout",
     "output_type": "stream",
     "text": [
      "Group: 00:16:6c:ab:6b:88 with 1 entries\n",
      "Group: 00:24:e4:11:18:a8 with 1 entries\n",
      "Group: 00:24:e4:1b:6f:96 with 1 entries\n",
      "Group: 01:00:5e:00:00:fb with 1 entries\n",
      "Group: 01:00:5e:7f:ff:fa with 1 entries\n",
      "Group: 08:21:ef:3b:fc:e3 with 2 entries\n",
      "Group: 18:b4:30:25:be:e4 with 2 entries\n",
      "Group: 33:33:00:00:00:01 with 1 entries\n",
      "Group: 33:33:00:00:00:02 with 1 entries\n",
      "Group: 33:33:00:00:00:0c with 2 entries\n",
      "Group: 33:33:00:00:00:16 with 1 entries\n",
      "Group: 33:33:00:00:00:fb with 1 entries\n",
      "Group: 33:33:00:01:00:02 with 1 entries\n",
      "Group: 33:33:00:01:00:03 with 2 entries\n",
      "Group: 33:33:ff:00:00:00 with 1 entries\n",
      "Group: 33:33:ff:00:00:01 with 1 entries\n",
      "Group: 33:33:ff:00:0e:e2 with 1 entries\n",
      "Group: 33:33:ff:18:34:43 with 1 entries\n",
      "Group: 33:33:ff:25:be:e4 with 1 entries\n",
      "Group: 33:33:ff:33:bb:85 with 1 entries\n",
      "Group: 33:33:ff:3b:fc:e3 with 1 entries\n",
      "Group: 33:33:ff:51:33:ea with 1 entries\n",
      "Group: 33:33:ff:6a:d5:08 with 1 entries\n",
      "Group: 33:33:ff:79:f4:89 with 1 entries\n",
      "Group: 33:33:ff:83:28:11 with 1 entries\n",
      "Group: 33:33:ff:99:e7:24 with 1 entries\n",
      "Group: 33:33:ff:ab:6b:88 with 1 entries\n",
      "Group: 33:33:ff:c5:a8:2b with 1 entries\n",
      "Group: 33:33:ff:cd:c5:b0 with 1 entries\n",
      "Group: 33:33:ff:df:f4:b7 with 1 entries\n",
      "Group: 33:33:ff:e4:9b:c0 with 1 entries\n",
      "Group: 70:5a:0f:e4:9b:c0 with 1 entries\n",
      "Group: 70:ee:50:03:b8:ac with 1 entries\n",
      "Group: 70:ee:50:18:34:43 with 2 entries\n",
      "Group: ec:1a:59:79:f4:89 with 1 entries\n",
      "Group: ec:1a:59:83:28:11 with 1 entries\n",
      "Group: f4:f2:6d:93:51:f1 with 1 entries\n",
      "Group: ff:ff:ff:ff:ff:ff with 3 entries\n"
     ]
    }
   ],
   "source": [
    "server_map = net.get_unique_subset(conn_df, [net.DEST_IP, net.DEST_MAC])\n",
    "grouped = server_map.groupby(net.DEST_MAC)\n",
    "for name, group in grouped:\n",
    "    if name != '14:cc:20:51:33:ea':\n",
    "        print(f\"Group: {name} with {group.shape[0]} entries\")\n",
    "        #print(group)"
   ]
  },
  {
   "cell_type": "code",
   "execution_count": 29,
   "id": "bb7370ad-d66b-4b64-b49c-528bc2355765",
   "metadata": {},
   "outputs": [
    {
     "name": "stdout",
     "output_type": "stream",
     "text": [
      "fe80::216:6cff:feab:6b88 --> 192.168.1.249\n",
      "fe80::a21:efff:fe3b:fce3 --> 192.168.1.239\n",
      "fe80::1ab4:30ff:fe25:bee4 --> 192.168.1.168\n",
      "fe80::725a:fff:fee4:9bc0 --> 192.168.1.236\n",
      "fe80::72ee:50ff:fe18:3443 --> 192.168.1.241\n",
      "fe80::ee1a:59ff:fe79:f489 --> 192.168.1.223\n",
      "fe80::ee1a:59ff:fe83:2811 --> 192.168.1.193\n",
      "192.168.1.255 --> 255.255.255.255\n",
      "fe80::e276:d0ff:fe33:bb85 --> 192.168.1.177\n"
     ]
    }
   ],
   "source": [
    "# As we can see, there are usually 1 or 2 entries. \n",
    "# So, both SRC and DESTINATION MAC can be used to make a mapping to IP address to the V4 and V6 addresses\n",
    "\n",
    "mapping_dict = net.find_client_mapping(conn_df, '14:cc:20:51:33:ea')\n",
    "for x in mapping_dict.keys():\n",
    "    print(x, '-->', mapping_dict[x])"
   ]
  },
  {
   "cell_type": "code",
   "execution_count": 30,
   "id": "8fd8942a-ba9e-4186-8f5c-61af17794f59",
   "metadata": {},
   "outputs": [],
   "source": [
    "#Let us save the answer dictionary into a mapping file \n",
    "map_df = pd.DataFrame({'Original':list(mapping_dict.keys()), 'Mapped':[mapping_dict[x] for x in mapping_dict.keys()]})\n",
    "map_df.to_csv('unsw/mapping.csv', index=False)"
   ]
  },
  {
   "cell_type": "code",
   "execution_count": 31,
   "id": "66656431-34e2-4eba-aa96-13da6ce82637",
   "metadata": {},
   "outputs": [],
   "source": [
    "# Let us now focus on IPV4 addresses only -- since they can identify most of the communication\n",
    "# mapping_dict allows us to map SRC and CLIENT IP addresses to local IPV4 address \n",
    "\n",
    "\n",
    "conn_df = net.conn_map_addresses(conn_df, mapping_dict)"
   ]
  },
  {
   "cell_type": "code",
   "execution_count": 32,
   "id": "eddfb1ab-a932-4de6-9941-2c4bf2da9cf3",
   "metadata": {},
   "outputs": [
    {
     "name": "stdout",
     "output_type": "stream",
     "text": [
      "18\n",
      "['192.168.1.166', '192.168.1.120', '192.168.1.193', '192.168.1.196', '192.168.1.240', '192.168.1.249', '192.168.1.223', '192.168.1.239', '192.168.1.177', '192.168.1.143', '192.168.1.241', '192.168.1.227', '192.168.1.112', '192.168.1.238', '192.168.1.106', '192.168.1.236', '192.168.1.168', '52.8.186.218']\n"
     ]
    }
   ],
   "source": [
    "#Now, we can see the client and server addresses from conn_df\n",
    "\n",
    "client_addresses = list(conn_df[conn_df[net.CONN_STATE]==\"SF\"][net.SRC_IP].unique())\n",
    "print(len(client_addresses))\n",
    "print(client_addresses)"
   ]
  },
  {
   "cell_type": "code",
   "execution_count": 33,
   "id": "e984069c-6cf1-403c-be54-6cbfa3fc2026",
   "metadata": {},
   "outputs": [],
   "source": [
    "# We have 17 local addresses, and an external address which is making an inbound connection. "
   ]
  },
  {
   "cell_type": "code",
   "execution_count": 34,
   "id": "1ecc422d-4280-4247-82b6-da6e41f0b72e",
   "metadata": {},
   "outputs": [
    {
     "name": "stdout",
     "output_type": "stream",
     "text": [
      "5\n",
      "['192.168.1.1', '192.168.1.249', '192.168.1.223', '192.168.1.193', '192.168.1.241']\n"
     ]
    }
   ],
   "source": [
    "# Let us find out the set of local servers. \n",
    "server_addresses = list(conn_df[conn_df[net.CONN_STATE]==\"SF\"][net.DEST_IP].unique())\n",
    "local_servers = [x for x in server_addresses if x.startswith('192.168.1')]\n",
    "print(len(local_servers))\n",
    "print(local_servers)"
   ]
  },
  {
   "cell_type": "code",
   "execution_count": 35,
   "id": "6088129e-79a8-4968-b206-ac6044a27b50",
   "metadata": {},
   "outputs": [],
   "source": [
    "#These are the same ones that we had before playing with V6 addresses. "
   ]
  }
 ],
 "metadata": {
  "kernelspec": {
   "display_name": "Python 3 (ipykernel)",
   "language": "python",
   "name": "python3"
  },
  "language_info": {
   "codemirror_mode": {
    "name": "ipython",
    "version": 3
   },
   "file_extension": ".py",
   "mimetype": "text/x-python",
   "name": "python",
   "nbconvert_exporter": "python",
   "pygments_lexer": "ipython3",
   "version": "3.10.10"
  }
 },
 "nbformat": 4,
 "nbformat_minor": 5
}
