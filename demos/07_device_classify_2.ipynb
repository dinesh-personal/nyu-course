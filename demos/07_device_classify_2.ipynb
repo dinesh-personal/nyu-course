{
 "cells": [
  {
   "cell_type": "code",
   "execution_count": 1,
   "id": "1007183e-58a1-42ce-a1dd-811769a4eda9",
   "metadata": {},
   "outputs": [],
   "source": [
    "import numpy as np\n",
    "import utils as ut\n",
    "import pandas as pd \n",
    "from sklearn import tree as skt\n",
    "from sklearn import preprocessing as skp \n",
    "from sklearn.pipeline import Pipeline\n",
    "from sklearn.model_selection import cross_val_score"
   ]
  },
  {
   "cell_type": "code",
   "execution_count": 2,
   "id": "c3d88c49-bbba-454c-8212-e1a5fea9ec34",
   "metadata": {},
   "outputs": [
    {
     "data": {
      "text/html": [
       "<div>\n",
       "<style scoped>\n",
       "    .dataframe tbody tr th:only-of-type {\n",
       "        vertical-align: middle;\n",
       "    }\n",
       "\n",
       "    .dataframe tbody tr th {\n",
       "        vertical-align: top;\n",
       "    }\n",
       "\n",
       "    .dataframe thead th {\n",
       "        text-align: right;\n",
       "    }\n",
       "</style>\n",
       "<table border=\"1\" class=\"dataframe\">\n",
       "  <thead>\n",
       "    <tr style=\"text-align: right;\">\n",
       "      <th></th>\n",
       "      <th>DeviceID</th>\n",
       "      <th>Hour</th>\n",
       "      <th>PeerCount</th>\n",
       "      <th>DataPerConn</th>\n",
       "      <th>DevType</th>\n",
       "    </tr>\n",
       "  </thead>\n",
       "  <tbody>\n",
       "    <tr>\n",
       "      <th>0</th>\n",
       "      <td>0</td>\n",
       "      <td>0</td>\n",
       "      <td>9</td>\n",
       "      <td>30.52</td>\n",
       "      <td>Video</td>\n",
       "    </tr>\n",
       "    <tr>\n",
       "      <th>1</th>\n",
       "      <td>1</td>\n",
       "      <td>0</td>\n",
       "      <td>2</td>\n",
       "      <td>1.08</td>\n",
       "      <td>Thermostat</td>\n",
       "    </tr>\n",
       "    <tr>\n",
       "      <th>2</th>\n",
       "      <td>2</td>\n",
       "      <td>0</td>\n",
       "      <td>7</td>\n",
       "      <td>38.23</td>\n",
       "      <td>Video</td>\n",
       "    </tr>\n",
       "    <tr>\n",
       "      <th>3</th>\n",
       "      <td>3</td>\n",
       "      <td>0</td>\n",
       "      <td>6</td>\n",
       "      <td>33.58</td>\n",
       "      <td>Video</td>\n",
       "    </tr>\n",
       "    <tr>\n",
       "      <th>4</th>\n",
       "      <td>5</td>\n",
       "      <td>0</td>\n",
       "      <td>9</td>\n",
       "      <td>33.39</td>\n",
       "      <td>Video</td>\n",
       "    </tr>\n",
       "  </tbody>\n",
       "</table>\n",
       "</div>"
      ],
      "text/plain": [
       "   DeviceID  Hour  PeerCount  DataPerConn     DevType\n",
       "0         0     0          9        30.52       Video\n",
       "1         1     0          2         1.08  Thermostat\n",
       "2         2     0          7        38.23       Video\n",
       "3         3     0          6        33.58       Video\n",
       "4         5     0          9        33.39       Video"
      ]
     },
     "execution_count": 2,
     "metadata": {},
     "output_type": "execute_result"
    }
   ],
   "source": [
    "df = pd.read_csv('data/device_classify_1.csv')\n",
    "df.head()"
   ]
  },
  {
   "cell_type": "code",
   "execution_count": 3,
   "id": "0183eb84-b83c-47d6-a4ee-4da5eca06f8c",
   "metadata": {},
   "outputs": [],
   "source": [
    "# Create our X and Y. \n",
    "X = df[['PeerCount','DataPerConn']].to_numpy()\n",
    "Y = df['DevType'].tolist()"
   ]
  },
  {
   "cell_type": "code",
   "execution_count": 4,
   "id": "cba9897a-43b6-47d2-8122-d720d717531e",
   "metadata": {},
   "outputs": [],
   "source": [
    "def create_pipeline(classifier): \n",
    "    myfunctions = [('PreProcess', skp.MinMaxScaler()), ('Classifier', classifier )]\n",
    "    pipeline = Pipeline(myfunctions)\n",
    "    return pipeline\n",
    "\n",
    "def check_classifier_cv(classifier, X, Y, cv):\n",
    "    pipe = create_pipeline(classifier)\n",
    "    score = cross_val_score(pipe, X, Y, cv=cv)\n",
    "    return np.mean(score)\n",
    "\n",
    "def eval_classifier(classifier, X, Y):\n",
    "    score = check_classifier_cv(classifier,X,Y,5)\n",
    "    print(f'{score:.2f}')\n",
    "    "
   ]
  },
  {
   "cell_type": "code",
   "execution_count": 5,
   "id": "1301e553-30c5-41cb-9976-2e712cdf7324",
   "metadata": {},
   "outputs": [
    {
     "name": "stdout",
     "output_type": "stream",
     "text": [
      "0.87\n"
     ]
    }
   ],
   "source": [
    "eval_classifier(skt.DecisionTreeClassifier(),X,Y)"
   ]
  },
  {
   "cell_type": "code",
   "execution_count": 6,
   "id": "881f032d-5af9-485a-ab56-23e6e4ddcc34",
   "metadata": {},
   "outputs": [
    {
     "name": "stdout",
     "output_type": "stream",
     "text": [
      "0.85\n"
     ]
    }
   ],
   "source": [
    "from sklearn.ensemble import RandomForestClassifier\n",
    "eval_classifier(RandomForestClassifier(),X,Y)"
   ]
  },
  {
   "cell_type": "code",
   "execution_count": 7,
   "id": "fa0232cc-8948-4e63-b0ef-d5907ab3c31c",
   "metadata": {},
   "outputs": [
    {
     "name": "stdout",
     "output_type": "stream",
     "text": [
      "0.88\n"
     ]
    }
   ],
   "source": [
    "from sklearn.naive_bayes import GaussianNB\n",
    "eval_classifier(GaussianNB(),X,Y)"
   ]
  },
  {
   "cell_type": "code",
   "execution_count": 8,
   "id": "e901f1e4-36cf-46db-89da-d3743415ce76",
   "metadata": {},
   "outputs": [
    {
     "name": "stdout",
     "output_type": "stream",
     "text": [
      "0.85\n"
     ]
    }
   ],
   "source": [
    "from sklearn.svm import SVC\n",
    "eval_classifier(SVC(),X,Y)"
   ]
  },
  {
   "cell_type": "code",
   "execution_count": 9,
   "id": "598b4bb5-75af-4329-a465-4acb202bbca1",
   "metadata": {},
   "outputs": [
    {
     "name": "stdout",
     "output_type": "stream",
     "text": [
      "0.86\n"
     ]
    }
   ],
   "source": [
    "from sklearn.svm import LinearSVC\n",
    "eval_classifier(LinearSVC(),X,Y)"
   ]
  },
  {
   "cell_type": "code",
   "execution_count": 10,
   "id": "767c2f72-44ed-4337-b359-5cb861da1155",
   "metadata": {},
   "outputs": [
    {
     "name": "stdout",
     "output_type": "stream",
     "text": [
      "0.88\n"
     ]
    }
   ],
   "source": [
    "from sklearn.neighbors import KNeighborsClassifier\n",
    "eval_classifier(KNeighborsClassifier(n_neighbors=10),X,Y)"
   ]
  }
 ],
 "metadata": {
  "kernelspec": {
   "display_name": "Python 3 (ipykernel)",
   "language": "python",
   "name": "python3"
  },
  "language_info": {
   "codemirror_mode": {
    "name": "ipython",
    "version": 3
   },
   "file_extension": ".py",
   "mimetype": "text/x-python",
   "name": "python",
   "nbconvert_exporter": "python",
   "pygments_lexer": "ipython3",
   "version": "3.10.10"
  }
 },
 "nbformat": 4,
 "nbformat_minor": 5
}
